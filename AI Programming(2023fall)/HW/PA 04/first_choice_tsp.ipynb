{
 "cells": [
  {
   "cell_type": "code",
   "execution_count": 1,
   "metadata": {},
   "outputs": [],
   "source": [
    "from problem import Problem, Tsp\n",
    "\n",
    "LIMIT_STUCK = 100 # Max number of evaluations enduring no improvement\n",
    "\n",
    "def main():\n",
    "    p = Tsp()\n",
    "    p.createProblem()\n",
    "    # Call the search algorithm\n",
    "    firstChoice(p)\n",
    "    # Show the problem and algorithm settings\n",
    "    p.describeProblem()\n",
    "    displaySetting()\n",
    "    # Report results\n",
    "    p.displayResult()\n",
    "    \n",
    "def firstChoice(p):\n",
    "    current = p.randomInit()   # 'current' is a list of city ids\n",
    "    valueC = p.evaluate(current)\n",
    "    i = 0\n",
    "    while i < LIMIT_STUCK:\n",
    "        successor = p.randomMutant(current)\n",
    "        valueS = p.evaluate(successor)\n",
    "        if valueS < valueC:\n",
    "            current = successor\n",
    "            valueC = valueS\n",
    "            i = 0              # Reset stuck counter\n",
    "        else:\n",
    "            i += 1\n",
    "    p.storeResult(current, valueC)\n",
    "\n",
    "def displaySetting():\n",
    "    print()\n",
    "    print(\"Search algorithm: First-Choice Hill Climbing\")\n",
    "    print(\"Max evaluations with no improvement: {0:,} iterations\".format(LIMIT_STUCK))"
   ]
  },
  {
   "cell_type": "code",
   "execution_count": 2,
   "metadata": {},
   "outputs": [
    {
     "name": "stdout",
     "output_type": "stream",
     "text": [
      "\n",
      "Number of cities: 30\n",
      "City locations:\n",
      "     (8, 31)    (54, 97)    (50, 50)    (65, 16)    (70, 47)\n",
      "   (25, 100)    (55, 74)    (77, 87)     (6, 46)    (70, 78)\n",
      "    (13, 38)   (100, 32)    (26, 35)    (55, 16)    (26, 77)\n",
      "    (17, 67)    (40, 36)    (38, 27)     (33, 2)     (48, 9)\n",
      "    (62, 20)    (17, 92)     (30, 2)    (80, 75)    (32, 36)\n",
      "    (43, 79)    (57, 49)    (18, 24)    (96, 76)    (81, 39)\n",
      "\n",
      "Search algorithm: First-Choice Hill Climbing\n",
      "Max evaluations with no improvement: 100 iterations\n",
      "\n",
      "Best order of visits:\n",
      "    7   28   23    9    6    1   25    5   21   14\n",
      "   15    8   10   12   27    0   24   17   16    2\n",
      "   26    4   20   13   18   22   19    3   29   11\n",
      "\n",
      "Minimum tour cost: 485\n",
      "\n",
      "Total number of evaluations: 881\n"
     ]
    }
   ],
   "source": [
    "main() # tsp30.txt"
   ]
  },
  {
   "cell_type": "code",
   "execution_count": 3,
   "metadata": {},
   "outputs": [
    {
     "name": "stdout",
     "output_type": "stream",
     "text": [
      "\n",
      "Number of cities: 50\n",
      "City locations:\n",
      "    (96, 22)    (56, 12)    (19, 24)    (83, 58)     (62, 5)\n",
      "    (79, 31)      (1, 0)    (29, 71)    (17, 89)    (43, 66)\n",
      "    (82, 74)    (52, 35)    (84, 92)    (93, 45)    (41, 24)\n",
      "    (36, 83)    (82, 35)    (89, 71)    (93, 89)    (67, 10)\n",
      "    (71, 82)    (68, 50)    (84, 81)    (74, 94)    (53, 13)\n",
      "    (81, 31)    (17, 92)    (99, 82)    (25, 63)      (0, 2)\n",
      "    (21, 83)    (70, 64)     (79, 6)    (31, 53)    (90, 50)\n",
      "    (48, 14)    (41, 26)    (80, 56)    (49, 51)    (19, 38)\n",
      "      (2, 0)    (29, 63)    (18, 59)    (10, 44)     (49, 7)\n",
      "     (37, 9)    (19, 14)    (90, 85)    (100, 5)    (34, 55)\n",
      "\n",
      "Search algorithm: First-Choice Hill Climbing\n",
      "Max evaluations with no improvement: 100 iterations\n",
      "\n",
      "Best order of visits:\n",
      "   14   36   11   38   21    5   25   24   35   44\n",
      "    1    4   19   45   46    2   40    6   29   39\n",
      "    8   26   30    7   41   28   42   15   49   33\n",
      "   43    9   31    3   20   23   47   27   18   12\n",
      "   22   10   17   37   34   13   16    0   32   48\n",
      "\n",
      "Minimum tour cost: 767\n",
      "\n",
      "Total number of evaluations: 1,092\n"
     ]
    }
   ],
   "source": [
    "main() # tsp50.txt"
   ]
  },
  {
   "cell_type": "code",
   "execution_count": 4,
   "metadata": {},
   "outputs": [
    {
     "name": "stdout",
     "output_type": "stream",
     "text": [
      "\n",
      "Number of cities: 100\n",
      "City locations:\n",
      "    (94, 71)    (75, 60)    (30, 87)    (98, 37)    (66, 39)\n",
      "     (80, 4)    (28, 75)    (45, 63)     (28, 1)    (21, 25)\n",
      "    (66, 95)    (63, 60)    (66, 82)    (50, 97)    (95, 29)\n",
      "    (23, 97)    (32, 35)     (3, 26)    (85, 67)    (20, 36)\n",
      "    (29, 61)    (86, 31)     (13, 9)     (39, 3)    (77, 41)\n",
      "    (54, 76)    (80, 46)    (20, 63)    (39, 89)    (51, 49)\n",
      "    (83, 38)    (34, 72)     (6, 66)    (52, 41)    (99, 64)\n",
      "     (3, 64)     (6, 72)     (70, 9)    (25, 57)    (32, 33)\n",
      "    (48, 68)    (73, 99)    (32, 75)     (29, 5)    (74, 30)\n",
      "    (32, 80)     (96, 7)     (37, 7)     (7, 70)     (0, 94)\n",
      "    (33, 10)    (84, 61)    (18, 29)    (71, 81)    (82, 76)\n",
      "    (68, 74)    (56, 53)    (80, 41)    (21, 52)    (12, 64)\n",
      "    (47, 46)    (55, 20)    (40, 90)    (81, 75)    (83, 23)\n",
      "    (35, 10)    (18, 84)    (46, 82)    (47, 74)    (25, 28)\n",
      "    (69, 76)    (77, 28)     (57, 0)    (24, 83)     (5, 65)\n",
      "    (83, 29)    (94, 93)     (0, 76)    (70, 32)    (32, 11)\n",
      "    (27, 25)    (98, 22)    (67, 39)    (80, 37)    (77, 10)\n",
      "    (61, 23)    (62, 71)    (45, 32)     (3, 56)    (58, 96)\n",
      "    (14, 70)     (0, 35)    (95, 68)    (79, 47)    (30, 79)\n",
      "     (41, 8)    (64, 33)    (28, 91)    (18, 21)    (42, 57)\n",
      "\n",
      "Search algorithm: First-Choice Hill Climbing\n",
      "Max evaluations with no improvement: 100 iterations\n",
      "\n",
      "Best order of visits:\n",
      "   34   92   18    0   63   54   70   89   13   10\n",
      "   68    7   99   67   25   56   11   53   12   41\n",
      "   76   51   93   26   78   24   83   64    5   84\n",
      "   95    8   43   72   47   65   50   79   80   98\n",
      "    9   19   69   52   39   16    6   94   62   45\n",
      "   73    2   66   15   97   28   49   90   20   58\n",
      "   60    4   33   88   35   74   77   36   32   48\n",
      "   59   27   42   31   40   86   55    1   57   30\n",
      "   75   46   81    3   14   21   71   44   82   91\n",
      "   17   22   23   37   96   61   85   87   29   38\n",
      "\n",
      "Minimum tour cost: 1,458\n",
      "\n",
      "Total number of evaluations: 1,958\n"
     ]
    }
   ],
   "source": [
    "main() # tsp100.txt"
   ]
  }
 ],
 "metadata": {
  "kernelspec": {
   "display_name": "ml",
   "language": "python",
   "name": "ml"
  },
  "language_info": {
   "codemirror_mode": {
    "name": "ipython",
    "version": 3
   },
   "file_extension": ".py",
   "mimetype": "text/x-python",
   "name": "python",
   "nbconvert_exporter": "python",
   "pygments_lexer": "ipython3",
   "version": "3.8.13"
  }
 },
 "nbformat": 4,
 "nbformat_minor": 2
}
