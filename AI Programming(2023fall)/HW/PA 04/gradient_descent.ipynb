{
 "cells": [
  {
   "cell_type": "code",
   "execution_count": 1,
   "metadata": {},
   "outputs": [],
   "source": [
    "from problem import Problem, Numeric\n",
    "\n",
    "def main():\n",
    "    p = Numeric()\n",
    "    p.setVariables()\n",
    "    # # Call the search algorithm\n",
    "    gradientDescent(p)\n",
    "    # # Show the problem and algorithm settings\n",
    "    p.describeProblem()\n",
    "    displaySetting(p)\n",
    "    # # Report results\n",
    "    p.displayResult()\n",
    "\n",
    "def gradientDescent(p):\n",
    "    current = p.randomInit() # 'current' is a list of values\n",
    "    valueC = p.evaluate(current)\n",
    "    while True:\n",
    "        successor = p.takeStep(current)\n",
    "        valueS = p.evaluate(successor)\n",
    "        if valueS >= valueC:\n",
    "            break\n",
    "        else:\n",
    "            current = successor\n",
    "            valueC = valueS\n",
    "\n",
    "    p.storeResult(current, valueC)\n",
    "\n",
    "def displaySetting(p):\n",
    "    print()\n",
    "    print(\"Search algorithm: Gradient descent\")\n",
    "    print()\n",
    "    print(\"Alpha rate:\", p.getAlpha())"
   ]
  },
  {
   "cell_type": "code",
   "execution_count": 2,
   "metadata": {},
   "outputs": [
    {
     "name": "stdout",
     "output_type": "stream",
     "text": [
      "\n",
      "Objective function:\n",
      "20 + math.e - 20 * math.exp(-(1/5) * math.sqrt((1/5) * (x1 ** 2 + x2 ** 2 + x3 ** 2 + x4 ** 2 + x5 ** 2))) - math.exp((1/5) * (math.cos(2 * math.pi * x1) + math.cos(2 * math.pi * x2) +math.cos(2 * math.pi * x3) +math.cos(2 * math.pi * x4) +math.cos(2 * math.pi * x5)))\n",
      "Search space:\n",
      " x1: (-30.0, 30.0)\n",
      " x2: (-30.0, 30.0)\n",
      " x3: (-30.0, 30.0)\n",
      " x4: (-30.0, 30.0)\n",
      " x5: (-30.0, 30.0)\n",
      "\n",
      "Search algorithm: Gradient descent\n",
      "\n",
      "Alpha rate: 0.01\n",
      "\n",
      "Solution found:\n",
      "(18.997, -17.998, 18.997, -4.999, 1.0)\n",
      "Minimum value: 18.930\n",
      "\n",
      "Total number of evaluations: 606\n"
     ]
    }
   ],
   "source": [
    "main() # Ackley.txt"
   ]
  },
  {
   "cell_type": "code",
   "execution_count": 3,
   "metadata": {},
   "outputs": [
    {
     "name": "stdout",
     "output_type": "stream",
     "text": [
      "\n",
      "Objective function:\n",
      "(x1 - 2) ** 2 +5 * (x2 - 5) ** 2 + 8 * (x3 + 8) ** 2 + 3 * (x4 + 1) ** 2 + 6 * (x5 - 7) ** 2\n",
      "Search space:\n",
      " x1: (-30.0, 30.0)\n",
      " x2: (-30.0, 30.0)\n",
      " x3: (-30.0, 30.0)\n",
      " x4: (-30.0, 30.0)\n",
      " x5: (-30.0, 30.0)\n",
      "\n",
      "Search algorithm: Gradient descent\n",
      "\n",
      "Alpha rate: 0.01\n",
      "\n",
      "Solution found:\n",
      "(2.0, 5.0, -8.0, -1.0, 7.0)\n",
      "Minimum value: 0.000\n",
      "\n",
      "Total number of evaluations: 6,909\n"
     ]
    }
   ],
   "source": [
    "main() # Convex.txt"
   ]
  },
  {
   "cell_type": "code",
   "execution_count": 4,
   "metadata": {},
   "outputs": [
    {
     "name": "stdout",
     "output_type": "stream",
     "text": [
      "\n",
      "Objective function:\n",
      "1 + (x1 ** 2 + x2 ** 2 + x3 ** 2+ x4 ** 2 + x5 ** 2) / 4000 - math.cos(x1) * math.cos(x2 / math.sqrt(2)) * math.cos(x3 / math.sqrt(3)) * math.cos(x4 / math.sqrt(4)) * math.cos(x5 / math.sqrt(5))\n",
      "Search space:\n",
      " x1: (-30.0, 30.0)\n",
      " x2: (-30.0, 30.0)\n",
      " x3: (-30.0, 30.0)\n",
      " x4: (-30.0, 30.0)\n",
      " x5: (-30.0, 30.0)\n",
      "\n",
      "Search algorithm: Gradient descent\n",
      "\n",
      "Alpha rate: 0.01\n",
      "\n",
      "Solution found:\n",
      "(-3.14, 4.438, 5.433, 12.541, 21.022)\n",
      "Minimum value: 0.165\n",
      "\n",
      "Total number of evaluations: 117,448\n"
     ]
    }
   ],
   "source": [
    "main() # Griewank.txt"
   ]
  }
 ],
 "metadata": {
  "kernelspec": {
   "display_name": "ml",
   "language": "python",
   "name": "ml"
  },
  "language_info": {
   "codemirror_mode": {
    "name": "ipython",
    "version": 3
   },
   "file_extension": ".py",
   "mimetype": "text/x-python",
   "name": "python",
   "nbconvert_exporter": "python",
   "pygments_lexer": "ipython3",
   "version": "3.8.13"
  }
 },
 "nbformat": 4,
 "nbformat_minor": 2
}
