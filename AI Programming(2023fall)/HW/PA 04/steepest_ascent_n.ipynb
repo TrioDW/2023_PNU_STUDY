{
 "cells": [
  {
   "cell_type": "code",
   "execution_count": 1,
   "metadata": {},
   "outputs": [],
   "source": [
    "from problem import Problem, Numeric\n",
    "\n",
    "def main():\n",
    "    p = Numeric()\n",
    "    p.setVariables()\n",
    "    # # Call the search algorithm\n",
    "    steepestAscent(p)\n",
    "    # # Show the problem and algorithm settings\n",
    "    p.describeProblem()\n",
    "    displaySetting(p)\n",
    "    # # Report results\n",
    "    p.displayResult()\n",
    "\n",
    "def steepestAscent(p):\n",
    "    current = p.randomInit() # 'current' is a list of values\n",
    "    valueC = p.evaluate(current)\n",
    "    while True:\n",
    "        neighbors = p.mutants(current)\n",
    "        successor, valueS = bestOf(neighbors, p)\n",
    "        if valueS >= valueC:\n",
    "            break\n",
    "        else:\n",
    "            current = successor\n",
    "            valueC = valueS\n",
    "    p.storeResult(current, valueC)\n",
    "\n",
    "def bestOf(neighbors, p): ###\n",
    "    #각 neighbor들에 대해 evaluate를 실행해 값 계산\n",
    "    evals = []\n",
    "    for neighbor in neighbors:\n",
    "        evals.append(p.evaluate(neighbor))\n",
    "    #가장 낮은 값이 좋은값\n",
    "    bestValue = min(evals)\n",
    "    #가장 낮은 값 좌표, 가장 낮은 값 담아서 return\n",
    "    best = neighbors[evals.index(bestValue)]\n",
    "    return best, bestValue\n",
    "\n",
    "def displaySetting(p):\n",
    "    print()\n",
    "    print(\"Search algorithm: Steepest-Ascent Hill Climbing\")\n",
    "    print()\n",
    "    print(\"Mutation step size:\", p.getDelta())"
   ]
  },
  {
   "cell_type": "code",
   "execution_count": 2,
   "metadata": {},
   "outputs": [
    {
     "name": "stdout",
     "output_type": "stream",
     "text": [
      "\n",
      "Objective function:\n",
      "20 + math.e - 20 * math.exp(-(1/5) * math.sqrt((1/5) * (x1 ** 2 + x2 ** 2 + x3 ** 2 + x4 ** 2 + x5 ** 2))) - math.exp((1/5) * (math.cos(2 * math.pi * x1) + math.cos(2 * math.pi * x2) +math.cos(2 * math.pi * x3) +math.cos(2 * math.pi * x4) +math.cos(2 * math.pi * x5)))\n",
      "Search space:\n",
      " x1: (-30.0, 30.0)\n",
      " x2: (-30.0, 30.0)\n",
      " x3: (-30.0, 30.0)\n",
      " x4: (-30.0, 30.0)\n",
      " x5: (-30.0, 30.0)\n",
      "\n",
      "Search algorithm: Steepest-Ascent Hill Climbing\n",
      "\n",
      "Mutation step size: 0.01\n",
      "\n",
      "Solution found:\n",
      "(-13.993, 24.992, -7.994, 5.996, 8.998)\n",
      "Minimum value: 18.822\n",
      "\n",
      "Total number of evaluations: 741\n"
     ]
    }
   ],
   "source": [
    "main() # Ackley.txt"
   ]
  },
  {
   "cell_type": "code",
   "execution_count": 4,
   "metadata": {},
   "outputs": [
    {
     "name": "stdout",
     "output_type": "stream",
     "text": [
      "\n",
      "Objective function:\n",
      "(x1 - 2) ** 2 +5 * (x2 - 5) ** 2 + 8 * (x3 + 8) ** 2 + 3 * (x4 + 1) ** 2 + 6 * (x5 - 7) ** 2\n",
      "Search space:\n",
      " x1: (-30.0, 30.0)\n",
      " x2: (-30.0, 30.0)\n",
      " x3: (-30.0, 30.0)\n",
      " x4: (-30.0, 30.0)\n",
      " x5: (-30.0, 30.0)\n",
      "\n",
      "Search algorithm: Steepest-Ascent Hill Climbing\n",
      "\n",
      "Mutation step size: 0.01\n",
      "\n",
      "Solution found:\n",
      "(2.0, 5.003, -8.005, -1.0, 7.003)\n",
      "Minimum value: 0.000\n",
      "\n",
      "Total number of evaluations: 60,341\n"
     ]
    }
   ],
   "source": [
    "main() # Convex.txt"
   ]
  },
  {
   "cell_type": "code",
   "execution_count": 5,
   "metadata": {},
   "outputs": [
    {
     "name": "stdout",
     "output_type": "stream",
     "text": [
      "\n",
      "Objective function:\n",
      "1 + (x1 ** 2 + x2 ** 2 + x3 ** 2+ x4 ** 2 + x5 ** 2) / 4000 - math.cos(x1) * math.cos(x2 / math.sqrt(2)) * math.cos(x3 / math.sqrt(3)) * math.cos(x4 / math.sqrt(4)) * math.cos(x5 / math.sqrt(5))\n",
      "Search space:\n",
      " x1: (-30.0, 30.0)\n",
      " x2: (-30.0, 30.0)\n",
      " x3: (-30.0, 30.0)\n",
      " x4: (-30.0, 30.0)\n",
      " x5: (-30.0, 30.0)\n",
      "\n",
      "Search algorithm: Steepest-Ascent Hill Climbing\n",
      "\n",
      "Mutation step size: 0.01\n",
      "\n",
      "Solution found:\n",
      "(3.138, 26.628, 5.429, 18.808, 7.005)\n",
      "Minimum value: 0.288\n",
      "\n",
      "Total number of evaluations: 5,521\n"
     ]
    }
   ],
   "source": [
    "main() # Griewank.txt"
   ]
  }
 ],
 "metadata": {
  "kernelspec": {
   "display_name": "ml",
   "language": "python",
   "name": "ml"
  },
  "language_info": {
   "codemirror_mode": {
    "name": "ipython",
    "version": 3
   },
   "file_extension": ".py",
   "mimetype": "text/x-python",
   "name": "python",
   "nbconvert_exporter": "python",
   "pygments_lexer": "ipython3",
   "version": "3.8.13"
  }
 },
 "nbformat": 4,
 "nbformat_minor": 2
}
