{
 "cells": [
  {
   "cell_type": "code",
   "execution_count": 1,
   "metadata": {},
   "outputs": [],
   "source": [
    "from problem import Problem, Tsp\n",
    "\n",
    "def main():\n",
    "    # Create an instance of TSP\n",
    "    p = Tsp()\n",
    "    p.createProblem()    # 'p': [numCities, locations]\n",
    "    # Call the search algorithm\n",
    "    steepestAscent(p)\n",
    "    # Show the problem and algorithm settings\n",
    "    p.describeProblem()\n",
    "    displaySetting()\n",
    "    # Report results\n",
    "    p.displayResult()\n",
    "    \n",
    "def steepestAscent(p):\n",
    "    current = p.randomInit()   # 'current' is a list of city ids\n",
    "    valueC = p.evaluate(current)\n",
    "    while True:\n",
    "        neighbors = p.mutants(current)\n",
    "        (successor, valueS) = bestOf(neighbors, p)\n",
    "        if valueS >= valueC:\n",
    "            break\n",
    "        else:\n",
    "            current = successor\n",
    "            valueC = valueS\n",
    "    p.storeResult(current, valueC)\n",
    "\n",
    "def bestOf(neighbors, p):\n",
    "    #각 neighbor의 eval값 담아두는 리스트 생성\n",
    "    evals = []\n",
    "    #evaluate함수를 호출하여 각 neighbor data(한 코스) 의 cost를 저장\n",
    "    for neighbor in neighbors:\n",
    "        evals.append(p.evaluate(neighbor))\n",
    "    \n",
    "    #가장 작은값을 bestValue에, 그 작은 값의 neighbor data를 best에 저장후 return\n",
    "    bestValue = min(evals)\n",
    "    best = neighbors[evals.index(bestValue)]\n",
    "\n",
    "    return best, bestValue\n",
    "\n",
    "def displaySetting():\n",
    "    print()\n",
    "    print(\"Search algorithm: Steepest-Ascent Hill Climbing\")"
   ]
  },
  {
   "cell_type": "code",
   "execution_count": 2,
   "metadata": {},
   "outputs": [
    {
     "name": "stdout",
     "output_type": "stream",
     "text": [
      "\n",
      "Number of cities: 30\n",
      "City locations:\n",
      "     (8, 31)    (54, 97)    (50, 50)    (65, 16)    (70, 47)\n",
      "   (25, 100)    (55, 74)    (77, 87)     (6, 46)    (70, 78)\n",
      "    (13, 38)   (100, 32)    (26, 35)    (55, 16)    (26, 77)\n",
      "    (17, 67)    (40, 36)    (38, 27)     (33, 2)     (48, 9)\n",
      "    (62, 20)    (17, 92)     (30, 2)    (80, 75)    (32, 36)\n",
      "    (43, 79)    (57, 49)    (18, 24)    (96, 76)    (81, 39)\n",
      "\n",
      "Search algorithm: Steepest-Ascent Hill Climbing\n",
      "\n",
      "Best order of visits:\n",
      "    3   20   13   19   18   16   17   12   22   27\n",
      "    0   10    8   15   24    2   26   14   25   21\n",
      "    5    6    1    9    7   23    4   29   11   28\n",
      "\n",
      "Minimum tour cost: 594\n",
      "\n",
      "Total number of evaluations: 745\n"
     ]
    }
   ],
   "source": [
    "main() # tsp30.txt"
   ]
  },
  {
   "cell_type": "code",
   "execution_count": 3,
   "metadata": {},
   "outputs": [
    {
     "name": "stdout",
     "output_type": "stream",
     "text": [
      "\n",
      "Number of cities: 50\n",
      "City locations:\n",
      "    (96, 22)    (56, 12)    (19, 24)    (83, 58)     (62, 5)\n",
      "    (79, 31)      (1, 0)    (29, 71)    (17, 89)    (43, 66)\n",
      "    (82, 74)    (52, 35)    (84, 92)    (93, 45)    (41, 24)\n",
      "    (36, 83)    (82, 35)    (89, 71)    (93, 89)    (67, 10)\n",
      "    (71, 82)    (68, 50)    (84, 81)    (74, 94)    (53, 13)\n",
      "    (81, 31)    (17, 92)    (99, 82)    (25, 63)      (0, 2)\n",
      "    (21, 83)    (70, 64)     (79, 6)    (31, 53)    (90, 50)\n",
      "    (48, 14)    (41, 26)    (80, 56)    (49, 51)    (19, 38)\n",
      "      (2, 0)    (29, 63)    (18, 59)    (10, 44)     (49, 7)\n",
      "     (37, 9)    (19, 14)    (90, 85)    (100, 5)    (34, 55)\n",
      "\n",
      "Search algorithm: Steepest-Ascent Hill Climbing\n",
      "\n",
      "Best order of visits:\n",
      "   10   17   27   22   12   23   18   47   20   15\n",
      "   30   26   41   49   21   38   33   28    8    7\n",
      "   25   16   34   37   48    0    5   13    9   31\n",
      "    3   11   32   44   35    4   19    1   45   24\n",
      "   36   14   46   39   43    2   42   29   40    6\n",
      "\n",
      "Minimum tour cost: 1,026\n",
      "\n",
      "Total number of evaluations: 1,429\n"
     ]
    }
   ],
   "source": [
    "main() # tsp50.txt"
   ]
  },
  {
   "cell_type": "code",
   "execution_count": 4,
   "metadata": {},
   "outputs": [
    {
     "name": "stdout",
     "output_type": "stream",
     "text": [
      "\n",
      "Number of cities: 100\n",
      "City locations:\n",
      "    (94, 71)    (75, 60)    (30, 87)    (98, 37)    (66, 39)\n",
      "     (80, 4)    (28, 75)    (45, 63)     (28, 1)    (21, 25)\n",
      "    (66, 95)    (63, 60)    (66, 82)    (50, 97)    (95, 29)\n",
      "    (23, 97)    (32, 35)     (3, 26)    (85, 67)    (20, 36)\n",
      "    (29, 61)    (86, 31)     (13, 9)     (39, 3)    (77, 41)\n",
      "    (54, 76)    (80, 46)    (20, 63)    (39, 89)    (51, 49)\n",
      "    (83, 38)    (34, 72)     (6, 66)    (52, 41)    (99, 64)\n",
      "     (3, 64)     (6, 72)     (70, 9)    (25, 57)    (32, 33)\n",
      "    (48, 68)    (73, 99)    (32, 75)     (29, 5)    (74, 30)\n",
      "    (32, 80)     (96, 7)     (37, 7)     (7, 70)     (0, 94)\n",
      "    (33, 10)    (84, 61)    (18, 29)    (71, 81)    (82, 76)\n",
      "    (68, 74)    (56, 53)    (80, 41)    (21, 52)    (12, 64)\n",
      "    (47, 46)    (55, 20)    (40, 90)    (81, 75)    (83, 23)\n",
      "    (35, 10)    (18, 84)    (46, 82)    (47, 74)    (25, 28)\n",
      "    (69, 76)    (77, 28)     (57, 0)    (24, 83)     (5, 65)\n",
      "    (83, 29)    (94, 93)     (0, 76)    (70, 32)    (32, 11)\n",
      "    (27, 25)    (98, 22)    (67, 39)    (80, 37)    (77, 10)\n",
      "    (61, 23)    (62, 71)    (45, 32)     (3, 56)    (58, 96)\n",
      "    (14, 70)     (0, 35)    (95, 68)    (79, 47)    (30, 79)\n",
      "     (41, 8)    (64, 33)    (28, 91)    (18, 21)    (42, 57)\n",
      "\n",
      "Search algorithm: Steepest-Ascent Hill Climbing\n",
      "\n",
      "Best order of visits:\n",
      "   49   48   74   35   88   59   32   27    6   45\n",
      "   31   38   19   52   39   16   87   69   80   50\n",
      "   47   65   79   43   72   23   95    8   98    9\n",
      "   22   17   91   58   20   33   60   85   44   96\n",
      "   78    4   99   29   56   11    1   26   83   30\n",
      "   57   24   21   75   61   37    5   84   46   64\n",
      "   71   81   14    3    0   92   34   76   41   10\n",
      "   13   89   12   53   63   54   18   51   93   82\n",
      "   68   42    7   40   70   55   86   25   67   28\n",
      "    2   15   62   97   94   66   73   90   36   77\n",
      "\n",
      "Minimum tour cost: 1,255\n",
      "\n",
      "Total number of evaluations: 9,596\n"
     ]
    }
   ],
   "source": [
    "main() # tsp100.txt"
   ]
  }
 ],
 "metadata": {
  "kernelspec": {
   "display_name": "ml",
   "language": "python",
   "name": "ml"
  },
  "language_info": {
   "codemirror_mode": {
    "name": "ipython",
    "version": 3
   },
   "file_extension": ".py",
   "mimetype": "text/x-python",
   "name": "python",
   "nbconvert_exporter": "python",
   "pygments_lexer": "ipython3",
   "version": "3.8.13"
  }
 },
 "nbformat": 4,
 "nbformat_minor": 2
}
