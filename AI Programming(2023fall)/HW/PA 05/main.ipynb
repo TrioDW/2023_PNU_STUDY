{
 "cells": [
  {
   "cell_type": "code",
   "execution_count": 1,
   "metadata": {},
   "outputs": [],
   "source": [
    "from problem import *\n",
    "from optimizer import *\n",
    "\n",
    "# 문제 선택하는 함수\n",
    "def selectProblem():\n",
    "    print(\"Select the problem type:\")\n",
    "    print(\"    1. Numerical Optimization\")\n",
    "    print(\"    2. TSP\")\n",
    "    pType = int(input(\"Enter the number: \"))\n",
    "\n",
    "    #입력받은 타입에따라 다른 객체 생성\n",
    "    if pType == 1:\n",
    "        p = Numeric()\n",
    "    else:\n",
    "        p = Tsp()\n",
    "    #객체 생성후 바로 파일 입력받게끔 setVariables함수 호출\n",
    "    p.setVariables()\n",
    "    \n",
    "    return p, pType\n",
    "\n",
    "def invalid(pType, aType):\n",
    "    #tsp가 선택되고, gradient descent일시\n",
    "    if(pType == 2 and aType == 3):\n",
    "        # 불가능하다고 출력후 바로 종료\n",
    "        print(\"You cannot choose Gradient Descent with TSP\")\n",
    "        quit()\n",
    "\n",
    "# 알고리즘 선택하는 함수\n",
    "def selectAlgorithm(pType):\n",
    "    print()\n",
    "    print(\"Select the search algorithm:\")\n",
    "    print(\"    1. Steepest-Ascent\")\n",
    "    print(\"    2. First-Choice\")\n",
    "    print(\"    3. Gradient Descent\")\n",
    "    aType = int(input(\"Enter the number: \"))\n",
    "\n",
    "    #입력받은후 유효한지 검사 하기 위해 위에 정의해둔 invalid 함수 호출\n",
    "    invalid(pType, aType)\n",
    "    \n",
    "    optimizers = { 1: 'SteepestAscent()', 2: 'FirstChoice()', 3: 'GradientDescent()'}\n",
    "    alg = eval(optimizers[aType])\n",
    "    alg.setVariables(aType, pType)\n",
    "    return alg\n",
    "\n",
    "def main():\n",
    "    p, pType = selectProblem()\n",
    "    alg = selectAlgorithm(pType)\n",
    "    alg.run(p)"
   ]
  },
  {
   "cell_type": "code",
   "execution_count": 2,
   "metadata": {},
   "outputs": [
    {
     "name": "stdout",
     "output_type": "stream",
     "text": [
      "Select the problem type:\n",
      "    1. Numerical Optimization\n",
      "    2. TSP\n",
      "\n",
      "Select the search algorithm:\n",
      "    1. Steepest-Ascent\n",
      "    2. First-Choice\n",
      "    3. Gradient Descent\n",
      "\n",
      "Objective function:\n",
      "20 + math.e - 20 * math.exp(-(1/5) * math.sqrt((1/5) * (x1 ** 2 + x2 ** 2 + x3 ** 2 + x4 ** 2 + x5 ** 2))) - math.exp((1/5) * (math.cos(2 * math.pi * x1) + math.cos(2 * math.pi * x2) +math.cos(2 * math.pi * x3) +math.cos(2 * math.pi * x4) +math.cos(2 * math.pi * x5)))\n",
      "\n",
      "Search space:\n",
      " x1: (-30.0, 30.0)\n",
      " x2: (-30.0, 30.0)\n",
      " x3: (-30.0, 30.0)\n",
      " x4: (-30.0, 30.0)\n",
      " x5: (-30.0, 30.0)\n",
      "\n",
      "Search algorithm: First-Choice Hill Climbing\n",
      "\n",
      "Mutation step size: 0.01\n",
      "\n",
      "Solution found:\n",
      "(-17.996, 1.997, 0.002, -23.998, -10.002)\n",
      "Minimum value: 18.825\n",
      "\n",
      "Total number of evaluations: 494\n"
     ]
    }
   ],
   "source": [
    "main() # First-Choice(n), Ackley.txt"
   ]
  },
  {
   "cell_type": "code",
   "execution_count": 3,
   "metadata": {},
   "outputs": [
    {
     "name": "stdout",
     "output_type": "stream",
     "text": [
      "Select the problem type:\n",
      "    1. Numerical Optimization\n",
      "    2. TSP\n",
      "\n",
      "Select the search algorithm:\n",
      "    1. Steepest-Ascent\n",
      "    2. First-Choice\n",
      "    3. Gradient Descent\n",
      "\n",
      "Objective function:\n",
      "(x1 - 2) ** 2 +5 * (x2 - 5) ** 2 + 8 * (x3 + 8) ** 2 + 3 * (x4 + 1) ** 2 + 6 * (x5 - 7) ** 2\n",
      "\n",
      "Search space:\n",
      " x1: (-30.0, 30.0)\n",
      " x2: (-30.0, 30.0)\n",
      " x3: (-30.0, 30.0)\n",
      " x4: (-30.0, 30.0)\n",
      " x5: (-30.0, 30.0)\n",
      "\n",
      "Search algorithm: First-Choice Hill Climbing\n",
      "\n",
      "Mutation step size: 0.01\n",
      "\n",
      "Solution found:\n",
      "(2.005, 5.004, -8.004, -0.999, 7.004)\n",
      "Minimum value: 0.000\n",
      "\n",
      "Total number of evaluations: 21,899\n"
     ]
    }
   ],
   "source": [
    "main() # First-Choice(n), Convex.txt"
   ]
  },
  {
   "cell_type": "code",
   "execution_count": 4,
   "metadata": {},
   "outputs": [
    {
     "name": "stdout",
     "output_type": "stream",
     "text": [
      "Select the problem type:\n",
      "    1. Numerical Optimization\n",
      "    2. TSP\n",
      "\n",
      "Select the search algorithm:\n",
      "    1. Steepest-Ascent\n",
      "    2. First-Choice\n",
      "    3. Gradient Descent\n",
      "\n",
      "Objective function:\n",
      "1 + (x1 ** 2 + x2 ** 2 + x3 ** 2+ x4 ** 2 + x5 ** 2) / 4000 - math.cos(x1) * math.cos(x2 / math.sqrt(2)) * math.cos(x3 / math.sqrt(3)) * math.cos(x4 / math.sqrt(4)) * math.cos(x5 / math.sqrt(5))\n",
      "\n",
      "Search space:\n",
      " x1: (-30.0, 30.0)\n",
      " x2: (-30.0, 30.0)\n",
      " x3: (-30.0, 30.0)\n",
      " x4: (-30.0, 30.0)\n",
      " x5: (-30.0, 30.0)\n",
      "\n",
      "Search algorithm: First-Choice Hill Climbing\n",
      "\n",
      "Mutation step size: 0.01\n",
      "\n",
      "Solution found:\n",
      "(-28.257, 4.435, 21.734, -25.082, 14.018)\n",
      "Minimum value: 0.530\n",
      "\n",
      "Total number of evaluations: 2,669\n"
     ]
    }
   ],
   "source": [
    "main() # First-Choice(n), Griewank.txt"
   ]
  },
  {
   "cell_type": "code",
   "execution_count": 5,
   "metadata": {},
   "outputs": [
    {
     "name": "stdout",
     "output_type": "stream",
     "text": [
      "Select the problem type:\n",
      "    1. Numerical Optimization\n",
      "    2. TSP\n",
      "\n",
      "Select the search algorithm:\n",
      "    1. Steepest-Ascent\n",
      "    2. First-Choice\n",
      "    3. Gradient Descent\n",
      "\n",
      "Objective function:\n",
      "20 + math.e - 20 * math.exp(-(1/5) * math.sqrt((1/5) * (x1 ** 2 + x2 ** 2 + x3 ** 2 + x4 ** 2 + x5 ** 2))) - math.exp((1/5) * (math.cos(2 * math.pi * x1) + math.cos(2 * math.pi * x2) +math.cos(2 * math.pi * x3) +math.cos(2 * math.pi * x4) +math.cos(2 * math.pi * x5)))\n",
      "\n",
      "Search space:\n",
      " x1: (-30.0, 30.0)\n",
      " x2: (-30.0, 30.0)\n",
      " x3: (-30.0, 30.0)\n",
      " x4: (-30.0, 30.0)\n",
      " x5: (-30.0, 30.0)\n",
      "\n",
      "Search algorithm: Steepest-Ascent Hill Climbing\n",
      "\n",
      "Mutation step size: 0.01\n",
      "\n",
      "Solution found:\n",
      "(-10.995, -16.993, 1.999, -1.999, -20.991)\n",
      "Minimum value: 18.546\n",
      "\n",
      "Total number of evaluations: 1,721\n"
     ]
    }
   ],
   "source": [
    "main() # Steepest-Ascent(n), Ackley.txt"
   ]
  },
  {
   "cell_type": "code",
   "execution_count": 6,
   "metadata": {},
   "outputs": [
    {
     "name": "stdout",
     "output_type": "stream",
     "text": [
      "Select the problem type:\n",
      "    1. Numerical Optimization\n",
      "    2. TSP\n",
      "\n",
      "Select the search algorithm:\n",
      "    1. Steepest-Ascent\n",
      "    2. First-Choice\n",
      "    3. Gradient Descent\n",
      "\n",
      "Objective function:\n",
      "(x1 - 2) ** 2 +5 * (x2 - 5) ** 2 + 8 * (x3 + 8) ** 2 + 3 * (x4 + 1) ** 2 + 6 * (x5 - 7) ** 2\n",
      "\n",
      "Search space:\n",
      " x1: (-30.0, 30.0)\n",
      " x2: (-30.0, 30.0)\n",
      " x3: (-30.0, 30.0)\n",
      " x4: (-30.0, 30.0)\n",
      " x5: (-30.0, 30.0)\n",
      "\n",
      "Search algorithm: Steepest-Ascent Hill Climbing\n",
      "\n",
      "Mutation step size: 0.01\n",
      "\n",
      "Solution found:\n",
      "(2.002, 4.999, -8.004, -1.004, 7.001)\n",
      "Minimum value: 0.000\n",
      "\n",
      "Total number of evaluations: 83,511\n"
     ]
    }
   ],
   "source": [
    "main() # Steepest-Ascent(n), Convex.txt"
   ]
  },
  {
   "cell_type": "code",
   "execution_count": 7,
   "metadata": {},
   "outputs": [
    {
     "name": "stdout",
     "output_type": "stream",
     "text": [
      "Select the problem type:\n",
      "    1. Numerical Optimization\n",
      "    2. TSP\n",
      "\n",
      "Select the search algorithm:\n",
      "    1. Steepest-Ascent\n",
      "    2. First-Choice\n",
      "    3. Gradient Descent\n",
      "\n",
      "Objective function:\n",
      "1 + (x1 ** 2 + x2 ** 2 + x3 ** 2+ x4 ** 2 + x5 ** 2) / 4000 - math.cos(x1) * math.cos(x2 / math.sqrt(2)) * math.cos(x3 / math.sqrt(3)) * math.cos(x4 / math.sqrt(4)) * math.cos(x5 / math.sqrt(5))\n",
      "\n",
      "Search space:\n",
      " x1: (-30.0, 30.0)\n",
      " x2: (-30.0, 30.0)\n",
      " x3: (-30.0, 30.0)\n",
      " x4: (-30.0, 30.0)\n",
      " x5: (-30.0, 30.0)\n",
      "\n",
      "Search algorithm: Steepest-Ascent Hill Climbing\n",
      "\n",
      "Mutation step size: 0.01\n",
      "\n",
      "Solution found:\n",
      "(-15.7, 13.313, -0.001, 6.273, -21.019)\n",
      "Minimum value: 0.227\n",
      "\n",
      "Total number of evaluations: 7,551\n"
     ]
    }
   ],
   "source": [
    "main() # Steepest-Ascent(n), Griewank.txt"
   ]
  },
  {
   "cell_type": "code",
   "execution_count": 8,
   "metadata": {},
   "outputs": [
    {
     "name": "stdout",
     "output_type": "stream",
     "text": [
      "Select the problem type:\n",
      "    1. Numerical Optimization\n",
      "    2. TSP\n",
      "\n",
      "Select the search algorithm:\n",
      "    1. Steepest-Ascent\n",
      "    2. First-Choice\n",
      "    3. Gradient Descent\n",
      "\n",
      "Number of cities: 30\n",
      "City locations:\n",
      "     (8, 31)    (54, 97)    (50, 50)    (65, 16)    (70, 47)\n",
      "   (25, 100)    (55, 74)    (77, 87)     (6, 46)    (70, 78)\n",
      "    (13, 38)   (100, 32)    (26, 35)    (55, 16)    (26, 77)\n",
      "    (17, 67)    (40, 36)    (38, 27)     (33, 2)     (48, 9)\n",
      "    (62, 20)    (17, 92)     (30, 2)    (80, 75)    (32, 36)\n",
      "    (43, 79)    (57, 49)    (18, 24)    (96, 76)    (81, 39)\n",
      "\n",
      "Search algorithm: First-Choice Hill Climbing\n",
      "\n",
      "\n",
      "Best order of visits:\n",
      "   18   22   19   13    3   20   26    4   29   11\n",
      "   28   23    7    9    6    2   16   17   24   27\n",
      "   12   10    0    8   14   15   21    5    1   25\n",
      "\n",
      "Minimum tour cost: 491\n",
      "\n",
      "Total number of evaluations: 902\n"
     ]
    }
   ],
   "source": [
    "main() # First-Choice(tsp), tsp30.txt"
   ]
  },
  {
   "cell_type": "code",
   "execution_count": 9,
   "metadata": {},
   "outputs": [
    {
     "name": "stdout",
     "output_type": "stream",
     "text": [
      "Select the problem type:\n",
      "    1. Numerical Optimization\n",
      "    2. TSP\n",
      "\n",
      "Select the search algorithm:\n",
      "    1. Steepest-Ascent\n",
      "    2. First-Choice\n",
      "    3. Gradient Descent\n",
      "\n",
      "Number of cities: 50\n",
      "City locations:\n",
      "    (96, 22)    (56, 12)    (19, 24)    (83, 58)     (62, 5)\n",
      "    (79, 31)      (1, 0)    (29, 71)    (17, 89)    (43, 66)\n",
      "    (82, 74)    (52, 35)    (84, 92)    (93, 45)    (41, 24)\n",
      "    (36, 83)    (82, 35)    (89, 71)    (93, 89)    (67, 10)\n",
      "    (71, 82)    (68, 50)    (84, 81)    (74, 94)    (53, 13)\n",
      "    (81, 31)    (17, 92)    (99, 82)    (25, 63)      (0, 2)\n",
      "    (21, 83)    (70, 64)     (79, 6)    (31, 53)    (90, 50)\n",
      "    (48, 14)    (41, 26)    (80, 56)    (49, 51)    (19, 38)\n",
      "      (2, 0)    (29, 63)    (18, 59)    (10, 44)     (49, 7)\n",
      "     (37, 9)    (19, 14)    (90, 85)    (100, 5)    (34, 55)\n",
      "\n",
      "Search algorithm: First-Choice Hill Climbing\n",
      "\n",
      "\n",
      "Best order of visits:\n",
      "   15   26    8   30   28   41    7    9   20   23\n",
      "   12   27   18   47   22   10   17    3   37   25\n",
      "    5   16   13   34   31   21   38   49   42   43\n",
      "   29    6   46   40    2   39   33   11   35   14\n",
      "   36   45   24    1   44    4   19   32   48    0\n",
      "\n",
      "Minimum tour cost: 698\n",
      "\n",
      "Total number of evaluations: 1,862\n"
     ]
    }
   ],
   "source": [
    "main() # First-Choice(tsp), tsp50.txt"
   ]
  },
  {
   "cell_type": "code",
   "execution_count": 10,
   "metadata": {},
   "outputs": [
    {
     "name": "stdout",
     "output_type": "stream",
     "text": [
      "Select the problem type:\n",
      "    1. Numerical Optimization\n",
      "    2. TSP\n",
      "\n",
      "Select the search algorithm:\n",
      "    1. Steepest-Ascent\n",
      "    2. First-Choice\n",
      "    3. Gradient Descent\n",
      "\n",
      "Number of cities: 100\n",
      "City locations:\n",
      "    (94, 71)    (75, 60)    (30, 87)    (98, 37)    (66, 39)\n",
      "     (80, 4)    (28, 75)    (45, 63)     (28, 1)    (21, 25)\n",
      "    (66, 95)    (63, 60)    (66, 82)    (50, 97)    (95, 29)\n",
      "    (23, 97)    (32, 35)     (3, 26)    (85, 67)    (20, 36)\n",
      "    (29, 61)    (86, 31)     (13, 9)     (39, 3)    (77, 41)\n",
      "    (54, 76)    (80, 46)    (20, 63)    (39, 89)    (51, 49)\n",
      "    (83, 38)    (34, 72)     (6, 66)    (52, 41)    (99, 64)\n",
      "     (3, 64)     (6, 72)     (70, 9)    (25, 57)    (32, 33)\n",
      "    (48, 68)    (73, 99)    (32, 75)     (29, 5)    (74, 30)\n",
      "    (32, 80)     (96, 7)     (37, 7)     (7, 70)     (0, 94)\n",
      "    (33, 10)    (84, 61)    (18, 29)    (71, 81)    (82, 76)\n",
      "    (68, 74)    (56, 53)    (80, 41)    (21, 52)    (12, 64)\n",
      "    (47, 46)    (55, 20)    (40, 90)    (81, 75)    (83, 23)\n",
      "    (35, 10)    (18, 84)    (46, 82)    (47, 74)    (25, 28)\n",
      "    (69, 76)    (77, 28)     (57, 0)    (24, 83)     (5, 65)\n",
      "    (83, 29)    (94, 93)     (0, 76)    (70, 32)    (32, 11)\n",
      "    (27, 25)    (98, 22)    (67, 39)    (80, 37)    (77, 10)\n",
      "    (61, 23)    (62, 71)    (45, 32)     (3, 56)    (58, 96)\n",
      "    (14, 70)     (0, 35)    (95, 68)    (79, 47)    (30, 79)\n",
      "     (41, 8)    (64, 33)    (28, 91)    (18, 21)    (42, 57)\n",
      "\n",
      "Search algorithm: First-Choice Hill Climbing\n",
      "\n",
      "\n",
      "Best order of visits:\n",
      "   46   84    5   37   64    3   21   75   71   78\n",
      "   85   96   87   61   43   69   91    9   98   22\n",
      "   17   52   19   50   79   16   33   29    4   44\n",
      "   81   34   18   51    6   73   15   66   48   36\n",
      "   90   49   35   88   74   27   59   77   32   45\n",
      "   94   31   99   60   24   57   30   14    1   11\n",
      "   56   26   93   83   82   72    8   65   23   95\n",
      "   47   39   80   58   42   20   38   40   68   63\n",
      "   54   76   41   25    7   67    2   97   62   28\n",
      "   13   89   10   55   86   70   12   53    0   92\n",
      "\n",
      "Minimum tour cost: 1,532\n",
      "\n",
      "Total number of evaluations: 1,894\n"
     ]
    }
   ],
   "source": [
    "main() # First-Choice(tsp), tsp100.txt"
   ]
  },
  {
   "cell_type": "code",
   "execution_count": 11,
   "metadata": {},
   "outputs": [
    {
     "name": "stdout",
     "output_type": "stream",
     "text": [
      "Select the problem type:\n",
      "    1. Numerical Optimization\n",
      "    2. TSP\n",
      "\n",
      "Select the search algorithm:\n",
      "    1. Steepest-Ascent\n",
      "    2. First-Choice\n",
      "    3. Gradient Descent\n",
      "\n",
      "Number of cities: 30\n",
      "City locations:\n",
      "     (8, 31)    (54, 97)    (50, 50)    (65, 16)    (70, 47)\n",
      "   (25, 100)    (55, 74)    (77, 87)     (6, 46)    (70, 78)\n",
      "    (13, 38)   (100, 32)    (26, 35)    (55, 16)    (26, 77)\n",
      "    (17, 67)    (40, 36)    (38, 27)     (33, 2)     (48, 9)\n",
      "    (62, 20)    (17, 92)     (30, 2)    (80, 75)    (32, 36)\n",
      "    (43, 79)    (57, 49)    (18, 24)    (96, 76)    (81, 39)\n",
      "\n",
      "Search algorithm: Steepest-Ascent Hill Climbing\n",
      "\n",
      "\n",
      "Best order of visits:\n",
      "   28   11   26    2    6   25    5   21   15    8\n",
      "   27   22   10    0   12   17   16   24   14    1\n",
      "    7   23    9    4   29   20   19   18   13    3\n",
      "\n",
      "Minimum tour cost: 637\n",
      "\n",
      "Total number of evaluations: 683\n"
     ]
    }
   ],
   "source": [
    "main() # Steepest-Ascent(tsp), tsp30.txt"
   ]
  },
  {
   "cell_type": "code",
   "execution_count": 12,
   "metadata": {},
   "outputs": [
    {
     "name": "stdout",
     "output_type": "stream",
     "text": [
      "Select the problem type:\n",
      "    1. Numerical Optimization\n",
      "    2. TSP\n",
      "\n",
      "Select the search algorithm:\n",
      "    1. Steepest-Ascent\n",
      "    2. First-Choice\n",
      "    3. Gradient Descent\n",
      "\n",
      "Number of cities: 50\n",
      "City locations:\n",
      "    (96, 22)    (56, 12)    (19, 24)    (83, 58)     (62, 5)\n",
      "    (79, 31)      (1, 0)    (29, 71)    (17, 89)    (43, 66)\n",
      "    (82, 74)    (52, 35)    (84, 92)    (93, 45)    (41, 24)\n",
      "    (36, 83)    (82, 35)    (89, 71)    (93, 89)    (67, 10)\n",
      "    (71, 82)    (68, 50)    (84, 81)    (74, 94)    (53, 13)\n",
      "    (81, 31)    (17, 92)    (99, 82)    (25, 63)      (0, 2)\n",
      "    (21, 83)    (70, 64)     (79, 6)    (31, 53)    (90, 50)\n",
      "    (48, 14)    (41, 26)    (80, 56)    (49, 51)    (19, 38)\n",
      "      (2, 0)    (29, 63)    (18, 59)    (10, 44)     (49, 7)\n",
      "     (37, 9)    (19, 14)    (90, 85)    (100, 5)    (34, 55)\n",
      "\n",
      "Search algorithm: Steepest-Ascent Hill Climbing\n",
      "\n",
      "\n",
      "Best order of visits:\n",
      "    2   46   36   14   42    7   41   15    9   28\n",
      "   49   43   39   33    8   26   30   23   12   47\n",
      "   18   22   27   34   13   25   37   20   10   21\n",
      "   17    3   31   38   16    5   48    0   32   24\n",
      "    1   45    6   40   29   44   11   35    4   19\n",
      "\n",
      "Minimum tour cost: 950\n",
      "\n",
      "Total number of evaluations: 1,633\n"
     ]
    }
   ],
   "source": [
    "main() # Steepest-Ascent(tsp), tsp50.txt"
   ]
  },
  {
   "cell_type": "code",
   "execution_count": 13,
   "metadata": {},
   "outputs": [
    {
     "name": "stdout",
     "output_type": "stream",
     "text": [
      "Select the problem type:\n",
      "    1. Numerical Optimization\n",
      "    2. TSP\n",
      "\n",
      "Select the search algorithm:\n",
      "    1. Steepest-Ascent\n",
      "    2. First-Choice\n",
      "    3. Gradient Descent\n",
      "\n",
      "Number of cities: 100\n",
      "City locations:\n",
      "    (94, 71)    (75, 60)    (30, 87)    (98, 37)    (66, 39)\n",
      "     (80, 4)    (28, 75)    (45, 63)     (28, 1)    (21, 25)\n",
      "    (66, 95)    (63, 60)    (66, 82)    (50, 97)    (95, 29)\n",
      "    (23, 97)    (32, 35)     (3, 26)    (85, 67)    (20, 36)\n",
      "    (29, 61)    (86, 31)     (13, 9)     (39, 3)    (77, 41)\n",
      "    (54, 76)    (80, 46)    (20, 63)    (39, 89)    (51, 49)\n",
      "    (83, 38)    (34, 72)     (6, 66)    (52, 41)    (99, 64)\n",
      "     (3, 64)     (6, 72)     (70, 9)    (25, 57)    (32, 33)\n",
      "    (48, 68)    (73, 99)    (32, 75)     (29, 5)    (74, 30)\n",
      "    (32, 80)     (96, 7)     (37, 7)     (7, 70)     (0, 94)\n",
      "    (33, 10)    (84, 61)    (18, 29)    (71, 81)    (82, 76)\n",
      "    (68, 74)    (56, 53)    (80, 41)    (21, 52)    (12, 64)\n",
      "    (47, 46)    (55, 20)    (40, 90)    (81, 75)    (83, 23)\n",
      "    (35, 10)    (18, 84)    (46, 82)    (47, 74)    (25, 28)\n",
      "    (69, 76)    (77, 28)     (57, 0)    (24, 83)     (5, 65)\n",
      "    (83, 29)    (94, 93)     (0, 76)    (70, 32)    (32, 11)\n",
      "    (27, 25)    (98, 22)    (67, 39)    (80, 37)    (77, 10)\n",
      "    (61, 23)    (62, 71)    (45, 32)     (3, 56)    (58, 96)\n",
      "    (14, 70)     (0, 35)    (95, 68)    (79, 47)    (30, 79)\n",
      "     (41, 8)    (64, 33)    (28, 91)    (18, 21)    (42, 57)\n",
      "\n",
      "Search algorithm: Steepest-Ascent Hill Climbing\n",
      "\n",
      "\n",
      "Best order of visits:\n",
      "   79   47   65   23   43   98    8   50   39   80\n",
      "   19   91   17   38   74   32   90   36   77   49\n",
      "   97    2    6   94   42   20   29   11    1   21\n",
      "    3   14   81   83   51   25   28   62   68   40\n",
      "   33   16   87   60   56   99   31   73    7   55\n",
      "   86   70   76   41   54    0   34   92   18   63\n",
      "   53   10   12   89   13   67   45   15   66   48\n",
      "   27   59   35   88   58   52   69    9   22   95\n",
      "   61   85   78   44   24   57   26   93   96    4\n",
      "   82   30   75   71   64   84   72   37   46    5\n",
      "\n",
      "Minimum tour cost: 1,402\n",
      "\n",
      "Total number of evaluations: 8,687\n"
     ]
    }
   ],
   "source": [
    "main() # Steepest-Ascent(tsp), tsp100.txt"
   ]
  },
  {
   "cell_type": "code",
   "execution_count": 19,
   "metadata": {},
   "outputs": [
    {
     "name": "stdout",
     "output_type": "stream",
     "text": [
      "Select the problem type:\n",
      "    1. Numerical Optimization\n",
      "    2. TSP\n",
      "\n",
      "Select the search algorithm:\n",
      "    1. Steepest-Ascent\n",
      "    2. First-Choice\n",
      "    3. Gradient Descent\n",
      "You cannot choose Gradient Descent with TSP\n"
     ]
    },
    {
     "ename": "AttributeError",
     "evalue": "'Tsp' object has no attribute 'takeStep'",
     "output_type": "error",
     "traceback": [
      "\u001b[0;31m---------------------------------------------------------------------------\u001b[0m",
      "\u001b[0;31mAttributeError\u001b[0m                            Traceback (most recent call last)",
      "\u001b[1;32m/Users/nozerose/Desktop/2023학년도 2학기 수업/CB3500655-060 AI프로그래밍(Prof.박진선)/과제/PA 05/main.ipynb Cell 14\u001b[0m line \u001b[0;36m1\n\u001b[0;32m----> <a href='vscode-notebook-cell:/Users/nozerose/Desktop/2023%E1%84%92%E1%85%A1%E1%86%A8%E1%84%82%E1%85%A7%E1%86%AB%E1%84%83%E1%85%A9%202%E1%84%92%E1%85%A1%E1%86%A8%E1%84%80%E1%85%B5%20%E1%84%89%E1%85%AE%E1%84%8B%E1%85%A5%E1%86%B8/CB3500655-060%20AI%E1%84%91%E1%85%B3%E1%84%85%E1%85%A9%E1%84%80%E1%85%B3%E1%84%85%E1%85%A2%E1%84%86%E1%85%B5%E1%86%BC%28Prof.%E1%84%87%E1%85%A1%E1%86%A8%E1%84%8C%E1%85%B5%E1%86%AB%E1%84%89%E1%85%A5%E1%86%AB%29/%E1%84%80%E1%85%AA%E1%84%8C%E1%85%A6/PA%2005/main.ipynb#X16sZmlsZQ%3D%3D?line=0'>1</a>\u001b[0m main() \u001b[39m# Gradient-Descent, cannot choose\u001b[39;00m\n",
      "\u001b[1;32m/Users/nozerose/Desktop/2023학년도 2학기 수업/CB3500655-060 AI프로그래밍(Prof.박진선)/과제/PA 05/main.ipynb Cell 14\u001b[0m line \u001b[0;36m4\n\u001b[1;32m     <a href='vscode-notebook-cell:/Users/nozerose/Desktop/2023%E1%84%92%E1%85%A1%E1%86%A8%E1%84%82%E1%85%A7%E1%86%AB%E1%84%83%E1%85%A9%202%E1%84%92%E1%85%A1%E1%86%A8%E1%84%80%E1%85%B5%20%E1%84%89%E1%85%AE%E1%84%8B%E1%85%A5%E1%86%B8/CB3500655-060%20AI%E1%84%91%E1%85%B3%E1%84%85%E1%85%A9%E1%84%80%E1%85%B3%E1%84%85%E1%85%A2%E1%84%86%E1%85%B5%E1%86%BC%28Prof.%E1%84%87%E1%85%A1%E1%86%A8%E1%84%8C%E1%85%B5%E1%86%AB%E1%84%89%E1%85%A5%E1%86%AB%29/%E1%84%80%E1%85%AA%E1%84%8C%E1%85%A6/PA%2005/main.ipynb#X16sZmlsZQ%3D%3D?line=45'>46</a>\u001b[0m p, pType \u001b[39m=\u001b[39m selectProblem()\n\u001b[1;32m     <a href='vscode-notebook-cell:/Users/nozerose/Desktop/2023%E1%84%92%E1%85%A1%E1%86%A8%E1%84%82%E1%85%A7%E1%86%AB%E1%84%83%E1%85%A9%202%E1%84%92%E1%85%A1%E1%86%A8%E1%84%80%E1%85%B5%20%E1%84%89%E1%85%AE%E1%84%8B%E1%85%A5%E1%86%B8/CB3500655-060%20AI%E1%84%91%E1%85%B3%E1%84%85%E1%85%A9%E1%84%80%E1%85%B3%E1%84%85%E1%85%A2%E1%84%86%E1%85%B5%E1%86%BC%28Prof.%E1%84%87%E1%85%A1%E1%86%A8%E1%84%8C%E1%85%B5%E1%86%AB%E1%84%89%E1%85%A5%E1%86%AB%29/%E1%84%80%E1%85%AA%E1%84%8C%E1%85%A6/PA%2005/main.ipynb#X16sZmlsZQ%3D%3D?line=46'>47</a>\u001b[0m alg \u001b[39m=\u001b[39m selectAlgorithm(pType)\n\u001b[0;32m---> <a href='vscode-notebook-cell:/Users/nozerose/Desktop/2023%E1%84%92%E1%85%A1%E1%86%A8%E1%84%82%E1%85%A7%E1%86%AB%E1%84%83%E1%85%A9%202%E1%84%92%E1%85%A1%E1%86%A8%E1%84%80%E1%85%B5%20%E1%84%89%E1%85%AE%E1%84%8B%E1%85%A5%E1%86%B8/CB3500655-060%20AI%E1%84%91%E1%85%B3%E1%84%85%E1%85%A9%E1%84%80%E1%85%B3%E1%84%85%E1%85%A2%E1%84%86%E1%85%B5%E1%86%BC%28Prof.%E1%84%87%E1%85%A1%E1%86%A8%E1%84%8C%E1%85%B5%E1%86%AB%E1%84%89%E1%85%A5%E1%86%AB%29/%E1%84%80%E1%85%AA%E1%84%8C%E1%85%A6/PA%2005/main.ipynb#X16sZmlsZQ%3D%3D?line=47'>48</a>\u001b[0m alg\u001b[39m.\u001b[39;49mrun(p)\n",
      "File \u001b[0;32m~/Desktop/2023학년도 2학기 수업/CB3500655-060 AI프로그래밍(Prof.박진선)/과제/PA 05/optimizer.py:103\u001b[0m, in \u001b[0;36mGradientDescent.run\u001b[0;34m(self, p)\u001b[0m\n\u001b[1;32m    101\u001b[0m valueC \u001b[39m=\u001b[39m p\u001b[39m.\u001b[39mevaluate(current)\n\u001b[1;32m    102\u001b[0m \u001b[39mwhile\u001b[39;00m \u001b[39mTrue\u001b[39;00m:\n\u001b[0;32m--> 103\u001b[0m     successor \u001b[39m=\u001b[39m p\u001b[39m.\u001b[39;49mtakeStep(current)\n\u001b[1;32m    104\u001b[0m     valueS \u001b[39m=\u001b[39m p\u001b[39m.\u001b[39mevaluate(successor)\n\u001b[1;32m    105\u001b[0m     \u001b[39mif\u001b[39;00m valueS \u001b[39m>\u001b[39m\u001b[39m=\u001b[39m valueC:\n",
      "\u001b[0;31mAttributeError\u001b[0m: 'Tsp' object has no attribute 'takeStep'"
     ]
    },
    {
     "ename": "",
     "evalue": "",
     "output_type": "error",
     "traceback": [
      "\u001b[1;31mThe Kernel crashed while executing code in the the current cell or a previous cell. Please review the code in the cell(s) to identify a possible cause of the failure. Click <a href='https://aka.ms/vscodeJupyterKernelCrash'>here</a> for more info. View Jupyter <a href='command:jupyter.viewOutput'>log</a> for further details."
     ]
    }
   ],
   "source": [
    "main() # Gradient-Descent, cannot choose"
   ]
  },
  {
   "cell_type": "code",
   "execution_count": 14,
   "metadata": {},
   "outputs": [
    {
     "name": "stdout",
     "output_type": "stream",
     "text": [
      "Select the problem type:\n",
      "    1. Numerical Optimization\n",
      "    2. TSP\n",
      "\n",
      "Select the search algorithm:\n",
      "    1. Steepest-Ascent\n",
      "    2. First-Choice\n",
      "    3. Gradient Descent\n",
      "\n",
      "Objective function:\n",
      "20 + math.e - 20 * math.exp(-(1/5) * math.sqrt((1/5) * (x1 ** 2 + x2 ** 2 + x3 ** 2 + x4 ** 2 + x5 ** 2))) - math.exp((1/5) * (math.cos(2 * math.pi * x1) + math.cos(2 * math.pi * x2) +math.cos(2 * math.pi * x3) +math.cos(2 * math.pi * x4) +math.cos(2 * math.pi * x5)))\n",
      "\n",
      "Search space:\n",
      " x1: (-30.0, 30.0)\n",
      " x2: (-30.0, 30.0)\n",
      " x3: (-30.0, 30.0)\n",
      " x4: (-30.0, 30.0)\n",
      " x5: (-30.0, 30.0)\n",
      "\n",
      "Search algorithm: Gradient Descent\n",
      "\n",
      "Update rate: 0.01\n",
      "Increment for calculating derivatives: 0.0001\n",
      "\n",
      "Solution found:\n",
      "(28.999, -9.0, 20.999, -26.999, -8.0)\n",
      "Minimum value: 19.686\n",
      "\n",
      "Total number of evaluations: 617\n"
     ]
    }
   ],
   "source": [
    "main() # Gradient-Descent(n), Ackley.txt"
   ]
  },
  {
   "cell_type": "code",
   "execution_count": 15,
   "metadata": {},
   "outputs": [
    {
     "name": "stdout",
     "output_type": "stream",
     "text": [
      "Select the problem type:\n",
      "    1. Numerical Optimization\n",
      "    2. TSP\n",
      "\n",
      "Select the search algorithm:\n",
      "    1. Steepest-Ascent\n",
      "    2. First-Choice\n",
      "    3. Gradient Descent\n",
      "\n",
      "Objective function:\n",
      "(x1 - 2) ** 2 +5 * (x2 - 5) ** 2 + 8 * (x3 + 8) ** 2 + 3 * (x4 + 1) ** 2 + 6 * (x5 - 7) ** 2\n",
      "\n",
      "Search space:\n",
      " x1: (-30.0, 30.0)\n",
      " x2: (-30.0, 30.0)\n",
      " x3: (-30.0, 30.0)\n",
      " x4: (-30.0, 30.0)\n",
      " x5: (-30.0, 30.0)\n",
      "\n",
      "Search algorithm: Gradient Descent\n",
      "\n",
      "Update rate: 0.01\n",
      "Increment for calculating derivatives: 0.0001\n",
      "\n",
      "Solution found:\n",
      "(2.0, 5.0, -8.0, -1.0, 7.0)\n",
      "Minimum value: 0.000\n",
      "\n",
      "Total number of evaluations: 19,647\n"
     ]
    }
   ],
   "source": [
    "main() # Gradient-Descent(n), Convex.txt"
   ]
  },
  {
   "cell_type": "code",
   "execution_count": 17,
   "metadata": {},
   "outputs": [
    {
     "name": "stdout",
     "output_type": "stream",
     "text": [
      "Select the problem type:\n",
      "    1. Numerical Optimization\n",
      "    2. TSP\n",
      "\n",
      "Select the search algorithm:\n",
      "    1. Steepest-Ascent\n",
      "    2. First-Choice\n",
      "    3. Gradient Descent\n",
      "\n",
      "Objective function:\n",
      "1 + (x1 ** 2 + x2 ** 2 + x3 ** 2+ x4 ** 2 + x5 ** 2) / 4000 - math.cos(x1) * math.cos(x2 / math.sqrt(2)) * math.cos(x3 / math.sqrt(3)) * math.cos(x4 / math.sqrt(4)) * math.cos(x5 / math.sqrt(5))\n",
      "\n",
      "Search space:\n",
      " x1: (-30.0, 30.0)\n",
      " x2: (-30.0, 30.0)\n",
      " x3: (-30.0, 30.0)\n",
      " x4: (-30.0, 30.0)\n",
      " x5: (-30.0, 30.0)\n",
      "\n",
      "Search algorithm: Gradient Descent\n",
      "\n",
      "Update rate: 0.01\n",
      "Increment for calculating derivatives: 0.0001\n",
      "\n",
      "Solution found:\n",
      "(-3.14, -26.631, -21.733, -12.541, -21.022)\n",
      "Minimum value: 0.448\n",
      "\n",
      "Total number of evaluations: 97,428\n"
     ]
    }
   ],
   "source": [
    "main() # Gradient-Descent(n), Griewank.txt"
   ]
  }
 ],
 "metadata": {
  "kernelspec": {
   "display_name": "ml",
   "language": "python",
   "name": "ml"
  },
  "language_info": {
   "codemirror_mode": {
    "name": "ipython",
    "version": 3
   },
   "file_extension": ".py",
   "mimetype": "text/x-python",
   "name": "python",
   "nbconvert_exporter": "python",
   "pygments_lexer": "ipython3",
   "version": "3.8.13"
  }
 },
 "nbformat": 4,
 "nbformat_minor": 2
}
