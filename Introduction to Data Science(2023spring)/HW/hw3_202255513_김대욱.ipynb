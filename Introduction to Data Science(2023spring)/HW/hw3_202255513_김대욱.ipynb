{
  "nbformat": 4,
  "nbformat_minor": 0,
  "metadata": {
    "colab": {
      "provenance": []
    },
    "kernelspec": {
      "name": "python3",
      "display_name": "Python 3"
    },
    "language_info": {
      "name": "python"
    }
  },
  "cells": [
    {
      "cell_type": "markdown",
      "source": [
        "# Homework 03\n",
        "Please complete the cells marked with \"TODO\" from T1 to T9."
      ],
      "metadata": {
        "id": "_buRIYSyX2oX"
      }
    },
    {
      "cell_type": "markdown",
      "source": [
        "## Vaccinations Across The Nation\n",
        "\n",
        "A vaccination clinic has two types of vaccines against a disease. Each person who comes in to be vaccinated gets either Vaccine 1 or Vaccine 2. One week, everyone who came in on Monday, Wednesday, and Friday was given Vaccine 1. Everyone who came in on Tuesday and Thursday was given Vaccine 2. The clinic is closed on weekends.\n",
        "\n",
        "Doctor DeNero at the clinic said, \"Oh wow, it's just like tossing a coin that lands heads with chance $\\frac{3}{5}$. Heads you get Vaccine 1 and Tails you get Vaccine 2.\"\n",
        "\n",
        "But Doctor Sahai said, \"No, it's not. We're not doing anything like tossing a coin.\"\n",
        "\n",
        "That week, the clinic gave Vaccine 1 to 211 people and Vaccine 2 to 107 people. Conduct a test of hypotheses to see which doctor's position is better supported by the data."
      ],
      "metadata": {
        "id": "pHOtZV8fYVKk"
      }
    },
    {
      "cell_type": "code",
      "source": [
        "# Do not modify this cell\n",
        "import pandas as pd\n",
        "import numpy as np\n",
        "%matplotlib inline\n",
        "import matplotlib.pyplot as plots\n",
        "plots.style.use('fivethirtyeight')"
      ],
      "metadata": {
        "id": "e4zcXEpuYAnD"
      },
      "execution_count": 1,
      "outputs": []
    },
    {
      "cell_type": "markdown",
      "source": [
        "## T1\n",
        "Given the information above, what was the sample size for the data, and what was the percentage of people who got **Vaccine 1?**\n",
        "\n",
        "*Note*: Your percent should be a number between 0 and 100."
      ],
      "metadata": {
        "id": "IV1IwlDOYwbh"
      }
    },
    {
      "cell_type": "code",
      "source": [
        "sample_size = 211 + 107 # TODO\n",
        "percent_V1 = (211/sample_size) * 100 # TODO\n",
        "\n",
        "print(f\"Sample Size: {sample_size}\")\n",
        "print(f\"Vaccine 1 Percent: {percent_V1}\")"
      ],
      "metadata": {
        "id": "Cot5hM6lYwLs",
        "colab": {
          "base_uri": "https://localhost:8080/"
        },
        "outputId": "3989f57c-bde6-4e20-d802-faeae0a073a8"
      },
      "execution_count": 2,
      "outputs": [
        {
          "output_type": "stream",
          "name": "stdout",
          "text": [
            "Sample Size: 318\n",
            "Vaccine 1 Percent: 66.35220125786164\n"
          ]
        }
      ]
    },
    {
      "cell_type": "markdown",
      "source": [
        "## T2\n",
        "State the null hypothesis. It should reflect the position of either Dr. DeNero or Dr. Sahai. \n",
        "Note: Check out 11.3 for a refresher on hypotheses.\n"
      ],
      "metadata": {
        "id": "HzKTCuXAeXII"
      }
    },
    {
      "cell_type": "markdown",
      "source": [
        "귀무 가설은 **'설정한 가설이 진실할 확률이 극히 적어 처음부터 버릴 것이 예상되는 가설'** 이라는 뜻을 갖고 있다. 즉, 다시 말해 실험 또는 연구의 목적과 관련하여 어떤 효과나 관계가 없다는 가정이다. DeNero 박사의 입장은 백신 선택이 60% 확률로 앞면이 나오는 동전 던지기와 같다는 입장이므로, 귀무 가설은 \"백신 접종을 하는 사람의 60%가 1번 백신을 접종한다.\" 이다."
      ],
      "metadata": {
        "id": "2NCEgxZmmqmi"
      }
    },
    {
      "cell_type": "markdown",
      "source": [
        "## T3\n",
        "State the alternative hypothesis. It should reflect the position of the doctor you did not choose to represent in the question above."
      ],
      "metadata": {
        "id": "EFhrq4w2mf06"
      }
    },
    {
      "cell_type": "markdown",
      "source": [
        "대안 가설은 앞서 설정한 귀무 가설의 반대 가설이므로, 사하이 박사의 의견이며 \"1번 백신을 접종하는 사람의 비율은 60%가 아니다.\" 이다."
      ],
      "metadata": {
        "id": "w_ATSqlymrrm"
      }
    },
    {
      "cell_type": "markdown",
      "source": [
        "## T4\n",
        "One of the test statistics below is appropriate for testing these hypotheses. Assign the variable `valid_test_stat` to the number corresponding to the correct test statistic.\n",
        "\n",
        "1. percent of heads - 60\n",
        "2. percent of heads - 50\n",
        "3. |percent of heads - 60|\n",
        "4. |percent of heads - 50|"
      ],
      "metadata": {
        "id": "CilCoEx7m2rH"
      }
    },
    {
      "cell_type": "code",
      "source": [
        "valid_test_stat = 3 # TODO\n",
        "valid_test_stat"
      ],
      "metadata": {
        "id": "8z1pRCrom5JM",
        "colab": {
          "base_uri": "https://localhost:8080/"
        },
        "outputId": "5c2e9e20-620d-49b5-af72-34985544b4e2"
      },
      "execution_count": 3,
      "outputs": [
        {
          "output_type": "execute_result",
          "data": {
            "text/plain": [
              "3"
            ]
          },
          "metadata": {},
          "execution_count": 3
        }
      ]
    },
    {
      "cell_type": "markdown",
      "source": [
        "##T5\n",
        "Using your answer from Questions T1 and T4, find the observed value of the test statistic and assign it to the variable `observed_statistic`."
      ],
      "metadata": {
        "id": "F9acLTqNnfYR"
      }
    },
    {
      "cell_type": "code",
      "source": [
        "observed_statistic = abs(percent_V1 - 60) # TODO\n",
        "observed_statistic"
      ],
      "metadata": {
        "id": "4bAtKWzEbfO3",
        "colab": {
          "base_uri": "https://localhost:8080/"
        },
        "outputId": "ce43d094-997c-45b9-f5d7-41e64aafa97d"
      },
      "execution_count": 4,
      "outputs": [
        {
          "output_type": "execute_result",
          "data": {
            "text/plain": [
              "6.352201257861637"
            ]
          },
          "metadata": {},
          "execution_count": 4
        }
      ]
    },
    {
      "cell_type": "markdown",
      "source": [
        "##T6\n",
        "In order to perform this hypothesis test, you must simulate the test statistic. From the four options below, pick the assumption that is needed for this simulation. Assign `assumption_needed` to an integer corresponding to the assumption.\n",
        "\n",
        "1. The statistic must be simulated under the null hypothesis.\n",
        "2. The statistic must be simulated under the alternative hypothesis.\n",
        "3. The statistic must be simulated under both hypotheses.\n",
        "4. No assumptions are needed. We can just simulate the statistic."
      ],
      "metadata": {
        "id": "BWspi_fMb0PM"
      }
    },
    {
      "cell_type": "code",
      "source": [
        "assumption_needed = 1 # TODO\n",
        "assumption_needed"
      ],
      "metadata": {
        "id": "UdycbkdNb_Gf",
        "colab": {
          "base_uri": "https://localhost:8080/"
        },
        "outputId": "0b53be3b-7639-4d0b-d9d1-9d83dde2ef6e"
      },
      "execution_count": 5,
      "outputs": [
        {
          "output_type": "execute_result",
          "data": {
            "text/plain": [
              "1"
            ]
          },
          "metadata": {},
          "execution_count": 5
        }
      ]
    },
    {
      "cell_type": "markdown",
      "source": [
        "##T7\n",
        "Simulate 20,000 values of the test statistic under the assumption you picked in T6.  \n",
        "\n",
        "As usual, start by defining a function that simulates one value of the statistic. Your function should use `sample_proportions`. (You may find a variable defined in T1 useful here!) Then, write a `for` loop to simulate multiple values and collect them in the array `simulated_statistics`.\n",
        "\n",
        "Use as many lines of code as you need."
      ],
      "metadata": {
        "id": "SUvaAZwOdm2-"
      }
    },
    {
      "cell_type": "code",
      "source": [
        "#TODO: complete code in this cell\n",
        "def sample_proportions(sample_size, probabilities):\n",
        "\treturn np.random.multinomial(sample_size, probabilities)/sample_size\n",
        "\n",
        "def one_simulated_statistic(sample_size, hypo_percent):\n",
        "  proportion = sample_proportions(sample_size, [hypo_percent, 1 - hypo_percent])\n",
        "  return (proportion[0] * 100) - (hypo_percent * 100)\n",
        "\n",
        "num_simulations = 20000\n",
        "hypo_percent = 0.6\n",
        "\n",
        "simulated_statistics = []\n",
        "for i in range(num_simulations):\n",
        "    simulated_statistics.append(one_simulated_statistic(sample_size, hypo_percent))\n",
        "\n",
        "# Run the this cell a few times to see how the simulated statistic changes\n",
        "one_simulated_statistic(sample_size, hypo_percent)"
      ],
      "metadata": {
        "id": "YWQ8rBoyeKzz",
        "colab": {
          "base_uri": "https://localhost:8080/"
        },
        "outputId": "c173c7fb-6d29-488c-cc76-67de26100d3a"
      },
      "execution_count": 9,
      "outputs": [
        {
          "output_type": "execute_result",
          "data": {
            "text/plain": [
              "2.264150943396224"
            ]
          },
          "metadata": {},
          "execution_count": 9
        }
      ]
    },
    {
      "cell_type": "markdown",
      "source": [
        "##T8\n",
        "Using `simulated_statistics`, `observed_statistic`, and `num_simulations`, find the empirical p-value based on the simulation."
      ],
      "metadata": {
        "id": "__-WHHGZeoBf"
      }
    },
    {
      "cell_type": "code",
      "source": [
        "count = 0\n",
        "\n",
        "for i in simulated_statistics:\n",
        "    if abs(i) >= abs(observed_statistic):\n",
        "        count += 1\n",
        "\n",
        "p_value = count / num_simulations\n",
        "p_value"
      ],
      "metadata": {
        "id": "HUQMudJ7fiWf",
        "colab": {
          "base_uri": "https://localhost:8080/"
        },
        "outputId": "89fc91e7-f5e3-40a2-8c99-58f603e293f0"
      },
      "execution_count": 10,
      "outputs": [
        {
          "output_type": "execute_result",
          "data": {
            "text/plain": [
              "0.0202"
            ]
          },
          "metadata": {},
          "execution_count": 10
        }
      ]
    },
    {
      "cell_type": "markdown",
      "source": [
        "##T9\n",
        "Assign `correct_doctor` to the number corresponding to the correct statement below. Use the 5% cutoff for the p-value. \n",
        "\n",
        "1. The data support Dr. DeNero's position more than they support Dr. Sahai's.\n",
        "2. The data support Dr. Sahai's position more than they support Dr. DeNero's.\n",
        "\n",
        "As a reminder, here are the two claims made by Dr. DeNero and Dr. Sahai:\n",
        "> **Doctor DeNero:** \"Oh wow, it's just like tossing a coin that lands heads with chance $\\frac{3}{5}$. Heads you get Vaccine 1 and Tails you get Vaccine 2.\"\n",
        "\n",
        ">**Doctor Sahai:** \"No, it's not. We're not doing anything like tossing a coin.\""
      ],
      "metadata": {
        "id": "eI3kQlUsfvNI"
      }
    },
    {
      "cell_type": "code",
      "source": [
        "if p_value < 0.05:\n",
        "  correct_doctor = 2\n",
        "else:\n",
        "  correct_doctor = 1\n",
        "correct_doctor"
      ],
      "metadata": {
        "id": "JIEWVmOzf59X",
        "colab": {
          "base_uri": "https://localhost:8080/"
        },
        "outputId": "03f8794b-6342-40b2-a0b4-29314d12f9be"
      },
      "execution_count": 11,
      "outputs": [
        {
          "output_type": "execute_result",
          "data": {
            "text/plain": [
              "2"
            ]
          },
          "metadata": {},
          "execution_count": 11
        }
      ]
    }
  ]
}