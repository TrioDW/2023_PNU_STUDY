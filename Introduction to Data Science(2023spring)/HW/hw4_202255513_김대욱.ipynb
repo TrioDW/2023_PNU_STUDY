{
  "nbformat": 4,
  "nbformat_minor": 0,
  "metadata": {
    "colab": {
      "provenance": []
    },
    "kernelspec": {
      "name": "python3",
      "display_name": "Python 3"
    },
    "language_info": {
      "name": "python"
    }
  },
  "cells": [
    {
      "cell_type": "markdown",
      "source": [
        "# Homework 04\n",
        "Please complete the cells marked with \"TODO\" from T1 to T9.\n",
        "\n",
        "**Please be sure to not re-assign variables throughout the notebook!** For example, if you use `max_temperature` in your answer to one question, do not reassign it later on."
      ],
      "metadata": {
        "id": "W1YtEefsEC64"
      }
    },
    {
      "cell_type": "code",
      "source": [
        "# Do not modify this cell\n",
        "import pandas as pd\n",
        "import numpy as np\n",
        "%matplotlib inline\n",
        "import matplotlib.pyplot as plots\n",
        "plots.style.use('fivethirtyeight')\n",
        "import seaborn as sns\n",
        "def percentile(data, p):\n",
        "  return np.percentile(data, p, method='inverted_cdf')"
      ],
      "metadata": {
        "id": "gK5Bo83uER9r"
      },
      "execution_count": 61,
      "outputs": []
    },
    {
      "cell_type": "markdown",
      "source": [
        "## Thai Restaurants\n",
        "\n",
        "Oswaldo and Varun are trying to see what the best Thai restaurant in PNU is. They survey 1,500 students selected uniformly at random and ask each student what Thai restaurant is the best. The choices of Thai restaurants are Lucky House, Imm Thai, Thai Temple, and Thai Basil. After compiling the results, Oswaldo and Varun release the following percentages from their sample:\n",
        "\n",
        "|Thai Restaurant  | Percentage|\n",
        "|:------------:|:------------:|\n",
        "|Lucky House | 8% |\n",
        "|Imm Thai | 53% |\n",
        "|Thai Temple | 25% |\n",
        "|Thai Basil | 14% |\n",
        "\n",
        "These percentages represent a uniform random sample of the population of the PNU students. We will attempt to estimate the corresponding *parameters*, or the percentage of the votes that each restaurant will receive from the population (i.e. all PNU students). We will use confidence intervals to compute a range of values that reflects the uncertainty of our estimates.\n",
        "\n",
        "The table (i.e., DataFrame) `votes` contains the results of Oswaldo and Varun's survey."
      ],
      "metadata": {
        "id": "pMejpZflELZO"
      }
    },
    {
      "cell_type": "code",
      "execution_count": 62,
      "metadata": {
        "id": "419sYB2U4-LW",
        "colab": {
          "base_uri": "https://localhost:8080/",
          "height": 424
        },
        "outputId": "f861e254-5083-45e4-9028-d024d9178de5"
      },
      "outputs": [
        {
          "output_type": "execute_result",
          "data": {
            "text/plain": [
              "             Vote\n",
              "0     Lucky House\n",
              "1     Lucky House\n",
              "2     Lucky House\n",
              "3     Lucky House\n",
              "4     Lucky House\n",
              "...           ...\n",
              "1495   Thai Basil\n",
              "1496   Thai Basil\n",
              "1497   Thai Basil\n",
              "1498   Thai Basil\n",
              "1499   Thai Basil\n",
              "\n",
              "[1500 rows x 1 columns]"
            ],
            "text/html": [
              "\n",
              "  <div id=\"df-06fe337b-25c7-468f-bc7d-ef037171d39f\">\n",
              "    <div class=\"colab-df-container\">\n",
              "      <div>\n",
              "<style scoped>\n",
              "    .dataframe tbody tr th:only-of-type {\n",
              "        vertical-align: middle;\n",
              "    }\n",
              "\n",
              "    .dataframe tbody tr th {\n",
              "        vertical-align: top;\n",
              "    }\n",
              "\n",
              "    .dataframe thead th {\n",
              "        text-align: right;\n",
              "    }\n",
              "</style>\n",
              "<table border=\"1\" class=\"dataframe\">\n",
              "  <thead>\n",
              "    <tr style=\"text-align: right;\">\n",
              "      <th></th>\n",
              "      <th>Vote</th>\n",
              "    </tr>\n",
              "  </thead>\n",
              "  <tbody>\n",
              "    <tr>\n",
              "      <th>0</th>\n",
              "      <td>Lucky House</td>\n",
              "    </tr>\n",
              "    <tr>\n",
              "      <th>1</th>\n",
              "      <td>Lucky House</td>\n",
              "    </tr>\n",
              "    <tr>\n",
              "      <th>2</th>\n",
              "      <td>Lucky House</td>\n",
              "    </tr>\n",
              "    <tr>\n",
              "      <th>3</th>\n",
              "      <td>Lucky House</td>\n",
              "    </tr>\n",
              "    <tr>\n",
              "      <th>4</th>\n",
              "      <td>Lucky House</td>\n",
              "    </tr>\n",
              "    <tr>\n",
              "      <th>...</th>\n",
              "      <td>...</td>\n",
              "    </tr>\n",
              "    <tr>\n",
              "      <th>1495</th>\n",
              "      <td>Thai Basil</td>\n",
              "    </tr>\n",
              "    <tr>\n",
              "      <th>1496</th>\n",
              "      <td>Thai Basil</td>\n",
              "    </tr>\n",
              "    <tr>\n",
              "      <th>1497</th>\n",
              "      <td>Thai Basil</td>\n",
              "    </tr>\n",
              "    <tr>\n",
              "      <th>1498</th>\n",
              "      <td>Thai Basil</td>\n",
              "    </tr>\n",
              "    <tr>\n",
              "      <th>1499</th>\n",
              "      <td>Thai Basil</td>\n",
              "    </tr>\n",
              "  </tbody>\n",
              "</table>\n",
              "<p>1500 rows × 1 columns</p>\n",
              "</div>\n",
              "      <button class=\"colab-df-convert\" onclick=\"convertToInteractive('df-06fe337b-25c7-468f-bc7d-ef037171d39f')\"\n",
              "              title=\"Convert this dataframe to an interactive table.\"\n",
              "              style=\"display:none;\">\n",
              "        \n",
              "  <svg xmlns=\"http://www.w3.org/2000/svg\" height=\"24px\"viewBox=\"0 0 24 24\"\n",
              "       width=\"24px\">\n",
              "    <path d=\"M0 0h24v24H0V0z\" fill=\"none\"/>\n",
              "    <path d=\"M18.56 5.44l.94 2.06.94-2.06 2.06-.94-2.06-.94-.94-2.06-.94 2.06-2.06.94zm-11 1L8.5 8.5l.94-2.06 2.06-.94-2.06-.94L8.5 2.5l-.94 2.06-2.06.94zm10 10l.94 2.06.94-2.06 2.06-.94-2.06-.94-.94-2.06-.94 2.06-2.06.94z\"/><path d=\"M17.41 7.96l-1.37-1.37c-.4-.4-.92-.59-1.43-.59-.52 0-1.04.2-1.43.59L10.3 9.45l-7.72 7.72c-.78.78-.78 2.05 0 2.83L4 21.41c.39.39.9.59 1.41.59.51 0 1.02-.2 1.41-.59l7.78-7.78 2.81-2.81c.8-.78.8-2.07 0-2.86zM5.41 20L4 18.59l7.72-7.72 1.47 1.35L5.41 20z\"/>\n",
              "  </svg>\n",
              "      </button>\n",
              "      \n",
              "  <style>\n",
              "    .colab-df-container {\n",
              "      display:flex;\n",
              "      flex-wrap:wrap;\n",
              "      gap: 12px;\n",
              "    }\n",
              "\n",
              "    .colab-df-convert {\n",
              "      background-color: #E8F0FE;\n",
              "      border: none;\n",
              "      border-radius: 50%;\n",
              "      cursor: pointer;\n",
              "      display: none;\n",
              "      fill: #1967D2;\n",
              "      height: 32px;\n",
              "      padding: 0 0 0 0;\n",
              "      width: 32px;\n",
              "    }\n",
              "\n",
              "    .colab-df-convert:hover {\n",
              "      background-color: #E2EBFA;\n",
              "      box-shadow: 0px 1px 2px rgba(60, 64, 67, 0.3), 0px 1px 3px 1px rgba(60, 64, 67, 0.15);\n",
              "      fill: #174EA6;\n",
              "    }\n",
              "\n",
              "    [theme=dark] .colab-df-convert {\n",
              "      background-color: #3B4455;\n",
              "      fill: #D2E3FC;\n",
              "    }\n",
              "\n",
              "    [theme=dark] .colab-df-convert:hover {\n",
              "      background-color: #434B5C;\n",
              "      box-shadow: 0px 1px 3px 1px rgba(0, 0, 0, 0.15);\n",
              "      filter: drop-shadow(0px 1px 2px rgba(0, 0, 0, 0.3));\n",
              "      fill: #FFFFFF;\n",
              "    }\n",
              "  </style>\n",
              "\n",
              "      <script>\n",
              "        const buttonEl =\n",
              "          document.querySelector('#df-06fe337b-25c7-468f-bc7d-ef037171d39f button.colab-df-convert');\n",
              "        buttonEl.style.display =\n",
              "          google.colab.kernel.accessAllowed ? 'block' : 'none';\n",
              "\n",
              "        async function convertToInteractive(key) {\n",
              "          const element = document.querySelector('#df-06fe337b-25c7-468f-bc7d-ef037171d39f');\n",
              "          const dataTable =\n",
              "            await google.colab.kernel.invokeFunction('convertToInteractive',\n",
              "                                                     [key], {});\n",
              "          if (!dataTable) return;\n",
              "\n",
              "          const docLinkHtml = 'Like what you see? Visit the ' +\n",
              "            '<a target=\"_blank\" href=https://colab.research.google.com/notebooks/data_table.ipynb>data table notebook</a>'\n",
              "            + ' to learn more about interactive tables.';\n",
              "          element.innerHTML = '';\n",
              "          dataTable['output_type'] = 'display_data';\n",
              "          await google.colab.output.renderOutput(dataTable, element);\n",
              "          const docLink = document.createElement('div');\n",
              "          docLink.innerHTML = docLinkHtml;\n",
              "          element.appendChild(docLink);\n",
              "        }\n",
              "      </script>\n",
              "    </div>\n",
              "  </div>\n",
              "  "
            ]
          },
          "metadata": {},
          "execution_count": 62
        }
      ],
      "source": [
        "path_data = \"https://raw.githubusercontent.com/mlee-pnu/IDS/main/data/\"\n",
        "votes = pd.read_csv(path_data + 'votes.csv')\n",
        "votes"
      ]
    },
    {
      "cell_type": "markdown",
      "source": [
        "## T1\n",
        "Complete the function `one_resampled_percentage` below. It should return Imm Thai's ***percentage*** of votes after taking the original table and performing one bootstrap sample of it. Reminder that a percentage is between 0 and 100.\n",
        "\n",
        "*Note:* `df` will always be in the same format as `votes`.\n",
        "\n",
        "*Hint:* Given a table of votes, how can you figure out what percentage of the votes are for a certain restaurant? **Be sure to use percentages, not proportions, for this question!**"
      ],
      "metadata": {
        "id": "rPs_tps0btel"
      }
    },
    {
      "cell_type": "code",
      "source": [
        "def one_resampled_percentage(df):\n",
        "    bootstrap_sample = np.random.choice(df['Vote'], size = len(df), replace = True)\n",
        "\n",
        "    Imm_Thai = bootstrap_sample[bootstrap_sample == 'Imm Thai'].shape[0]\n",
        "    totalVote = bootstrap_sample.shape[0]\n",
        "    return Imm_Thai / totalVote * 100\n",
        "\n",
        "one_resampled_percentage(votes)"
      ],
      "metadata": {
        "id": "EMJ1OeKndCUu",
        "colab": {
          "base_uri": "https://localhost:8080/"
        },
        "outputId": "66222504-74ea-4672-ee22-8c4f3bd8f5ab"
      },
      "execution_count": 63,
      "outputs": [
        {
          "output_type": "execute_result",
          "data": {
            "text/plain": [
              "54.86666666666666"
            ]
          },
          "metadata": {},
          "execution_count": 63
        }
      ]
    },
    {
      "cell_type": "markdown",
      "source": [
        "## T2\n",
        "Complete the `percentages_in_resamples` function such that it simulates and returns an array of 2022 elements, where each element represents a bootstrapped estimate of the percentage of voters who will vote for Imm Thai. You should use the `one_resampled_percentage` function you wrote above."
      ],
      "metadata": {
        "id": "H8SDdjJTjDVc"
      }
    },
    {
      "cell_type": "code",
      "source": [
        "def percentages_in_resamples():\n",
        "    percentage_imm = np.array([])\n",
        "\n",
        "    resample_ = []\n",
        "\n",
        "    for i in range(2022) :\n",
        "      resample = one_resampled_percentage(votes)\n",
        "      resample_.append(resample)\n",
        "\n",
        "    return np.array(resample_)"
      ],
      "metadata": {
        "id": "KPPpkkgdjWrO"
      },
      "execution_count": 64,
      "outputs": []
    },
    {
      "cell_type": "markdown",
      "source": [
        "In the following cell, we run the function you just defined, `percentages_in_resamples`, and create a histogram of the calculated statistic for the 2022 bootstrap estimates of the percentage of voters who voted for Imm Thai.\n",
        "\n",
        "*Note:* This might take a few seconds to run."
      ],
      "metadata": {
        "id": "I6CWuyvflGC_"
      }
    },
    {
      "cell_type": "code",
      "source": [
        "resampled_percentages = percentages_in_resamples()\n",
        "sns.histplot(resampled_percentages, stat='density')\n",
        "plots.show()"
      ],
      "metadata": {
        "id": "JU1jeOHEkQ67",
        "colab": {
          "base_uri": "https://localhost:8080/",
          "height": 449
        },
        "outputId": "c0f0aa7b-3fbd-4db1-de17-27b86262f281"
      },
      "execution_count": 65,
      "outputs": [
        {
          "output_type": "display_data",
          "data": {
            "text/plain": [
              "<Figure size 640x480 with 1 Axes>"
            ],
            "image/png": "[encoded data removed]"
          },
          "metadata": {}
        }
      ]
    },
    {
      "cell_type": "markdown",
      "source": [
        "## T3\n",
        "Using the array `resampled_percentages`, find the values at the two edges of the middle 95% of the bootstrapped percentage estimates. Compute the lower and upper ends of the interval, named `imm_lower_bound` and `imm_upper_bound` respectively.\n",
        "\n",
        "*Hint:* If you are stuck on this question, try looking over [Chapter 13](https://inferentialthinking.com/chapters/13/Estimation.html) of the textbook."
      ],
      "metadata": {
        "id": "fcOc2YfulCmn"
      }
    },
    {
      "cell_type": "code",
      "source": [
        "imm_lower_bound = np.percentile(resampled_percentages, 2.5) # TODO\n",
        "imm_upper_bound = np.percentile(resampled_percentages, 97.5) # TODO\n",
        "print(f\"Bootstrapped 95% confidence interval for the percentage of Imm Thai voters in the population: [{imm_lower_bound:.2f}, {imm_upper_bound:.2f}]\")"
      ],
      "metadata": {
        "id": "Ky6Pm4MHmD_S",
        "colab": {
          "base_uri": "https://localhost:8080/"
        },
        "outputId": "127e1e70-df92-4209-a3ac-14250c465ca6"
      },
      "execution_count": 66,
      "outputs": [
        {
          "output_type": "stream",
          "name": "stdout",
          "text": [
            "Bootstrapped 95% confidence interval for the percentage of Imm Thai voters in the population: [50.47, 55.47]\n"
          ]
        }
      ]
    },
    {
      "cell_type": "markdown",
      "source": [
        "## T4\n",
        "The survey results seem to indicate that Imm Thai is beating all the other Thai restaurants among the voters. We would like to use confidence intervals to determine a range of likely values for Imm Thai's true lead over all the other restaurants combined. The calculation for Imm Thai's lead over Lucky House, Thai Temple, and Thai Basil combined is:\n",
        "\n",
        "$$\\text{Imm Thai's percent of the vote} - (\\text{100 percent} - \\text{Imm Thai's percent of vote})$$\n",
        "\n",
        "Define the function `one_resampled_difference` that returns **exactly one value** of Imm Thai's percentage lead over Lucky House, Thai Temple, and Thai Basil combined from one bootstrap sample of `df`.\n",
        "\n",
        "*Hint 1:* Imm Thai's lead can be negative.\n",
        "\n",
        "*Hint 2:* Given a table of votes, how can you figure out what percentage of the votes are for a certain restaurant? **Be sure to use percentages, not proportions, for this question!**\n",
        "\n",
        "*Note:* If the skeleton code provided within the function is not helpful for you, feel free to approach the question using your own variables."
      ],
      "metadata": {
        "id": "RRBYPoVem8lB"
      }
    },
    {
      "cell_type": "code",
      "source": [
        "def one_resampled_difference(df):\n",
        "\n",
        "  percentOfImmThai = one_resampled_percentage(df)\n",
        "  return percentOfImmThai - (100 - percentOfImmThai)"
      ],
      "metadata": {
        "id": "OqqdYE3jnO50"
      },
      "execution_count": 67,
      "outputs": []
    },
    {
      "cell_type": "code",
      "source": [
        "one_resampled_difference(votes)"
      ],
      "metadata": {
        "id": "l4LkjSK6ucg4",
        "colab": {
          "base_uri": "https://localhost:8080/"
        },
        "outputId": "908808a6-9df1-47b2-b5f0-b834174abb47"
      },
      "execution_count": 68,
      "outputs": [
        {
          "output_type": "execute_result",
          "data": {
            "text/plain": [
              "7.066666666666663"
            ]
          },
          "metadata": {},
          "execution_count": 68
        }
      ]
    },
    {
      "cell_type": "markdown",
      "source": [
        "## T5\n",
        "Write a function called `leads_in_resamples` that returns an array of 2022 elements representing the bootstrapped estimates (the result of calling `one_resampled_difference`) of Imm Thai's lead over Lucky House, Thai Temple, and Thai Basil combined. Afterwards, run the cell to plot a histogram of the resulting samples.\n",
        "\n",
        "*Hint:* If you see an error involving `NoneType`, consider what components a function needs to have!"
      ],
      "metadata": {
        "id": "qka1BHkBujvt"
      }
    },
    {
      "cell_type": "code",
      "source": [
        "def leads_in_resamples():\n",
        "    resample_ = []\n",
        "\n",
        "    for i in range(2022) :\n",
        "      resample = one_resampled_percentage(votes)\n",
        "      resample_.append(resample)\n",
        "\n",
        "    return np.array(resample_)\n",
        "\n",
        "sampled_leads = leads_in_resamples()\n",
        "sns.histplot(sampled_leads, stat='density')\n",
        "plots.show()"
      ],
      "metadata": {
        "id": "PaMGfj6wus31",
        "colab": {
          "base_uri": "https://localhost:8080/",
          "height": 450
        },
        "outputId": "5f9af93c-6bf4-47ed-8004-0a7a2a5f5486"
      },
      "execution_count": 69,
      "outputs": [
        {
          "output_type": "display_data",
          "data": {
            "text/plain": [
              "<Figure size 640x480 with 1 Axes>"
            ],
            "image/png": "[encoded data removed]"
          },
          "metadata": {}
        }
      ]
    },
    {
      "cell_type": "markdown",
      "source": [
        "## T6\n",
        "Use the simulated data in `sampled_leads` from T5 to compute an approximate 95% confidence interval for Imm Thai's true lead over Lucky House, Thai Temple, and Thai Basil combined."
      ],
      "metadata": {
        "id": "CHXxG4aFvf7R"
      }
    },
    {
      "cell_type": "code",
      "source": [
        "diff_lower_bound = np.percentile(sampled_leads, 2.5, method='inverted_cdf') # TODO\n",
        "diff_upper_bound = np.percentile(sampled_leads, 97.5, method='inverted_cdf') # TODO\n",
        "print(\"Bootstrapped 95% confidence interval for Imm Thai's true lead over Lucky House, Thai Temple, and Thai Basil combined: [{:f}%, {:f}%]\".format(diff_lower_bound, diff_upper_bound))"
      ],
      "metadata": {
        "id": "xL7WGoRJvohn",
        "colab": {
          "base_uri": "https://localhost:8080/"
        },
        "outputId": "cdad2856-2ecb-4edb-f82d-44518fe4a25e"
      },
      "execution_count": 70,
      "outputs": [
        {
          "output_type": "stream",
          "name": "stdout",
          "text": [
            "Bootstrapped 95% confidence interval for Imm Thai's true lead over Lucky House, Thai Temple, and Thai Basil combined: [50.466667%, 55.466667%]\n"
          ]
        }
      ]
    },
    {
      "cell_type": "markdown",
      "source": [
        "## Interpreting Confidence Intervals"
      ],
      "metadata": {
        "id": "a7kgFF7cv4ob"
      }
    },
    {
      "cell_type": "markdown",
      "source": [
        "The staff computed the following 95% confidence interval for the percentage of Imm Thai voters:\n",
        "\n",
        "$$[50.53, 55.53]$$\n",
        "\n",
        "(Your answer may have been a bit different due to randomness; that doesn't mean it was wrong!)"
      ],
      "metadata": {
        "id": "Crf63fxzv-3W"
      }
    },
    {
      "cell_type": "markdown",
      "source": [
        "## T7\n",
        "The staff also created 70%, 90%, and 99% confidence intervals from the same sample, but we forgot to label which confidence interval represented which percentages! **First**, match each confidence level (70%, 90%, 99%) with its corresponding interval in the cell below (e.g. __ % CI: [52.1, 54] $\\rightarrow$ replace the blank with one of the three confidence levels).\n",
        "The intervals are below:\n",
        "\n",
        "* 99% CI: [50.03, 55.94]\n",
        "* 70% CI: [52.1, 54]\n",
        "* 90% CI: [50.97, 54.99]\n"
      ],
      "metadata": {
        "id": "ag-Dx2HPwAMC"
      }
    },
    {
      "cell_type": "markdown",
      "source": [
        "## T8\n",
        "Suppose we produced 6,000 new samples (each one a new/distinct uniform random sample of 1,500 students) from the population and created a 95% confidence interval from each one. Roughly how many of those 6,000 intervals do you expect will actually contain the true percentage of the population?\n",
        "\n",
        "Assign your answer to `true_percentage_intervals`.\n"
      ],
      "metadata": {
        "id": "acTCbXhowZN5"
      }
    },
    {
      "cell_type": "code",
      "source": [
        "true_percentage_intervals = 6000 * 0.95 # TODO\n",
        "true_percentage_intervals"
      ],
      "metadata": {
        "id": "-Y3rOpqswg0U",
        "colab": {
          "base_uri": "https://localhost:8080/"
        },
        "outputId": "ef2daf7c-b8da-467f-f37e-1ed2a92e1ef1"
      },
      "execution_count": 71,
      "outputs": [
        {
          "output_type": "execute_result",
          "data": {
            "text/plain": [
              "5700.0"
            ]
          },
          "metadata": {},
          "execution_count": 71
        }
      ]
    },
    {
      "cell_type": "markdown",
      "source": [
        "Recall the second bootstrap confidence interval you created, which estimated Imm Thai's lead over Lucky House, Thai Temple, and Thai Basil combined. Among\n",
        "voters in the sample, Imm Thai's lead was 6%. The staff's 95% confidence interval for the true lead (in the population of all voters) was:\n",
        "\n",
        "$$[1.2, 11.2]$$\n",
        "\n",
        "Suppose we are interested in testing a simple yes-or-no question:\n",
        "\n",
        "> \"Is the percentage of votes for Imm Thai equal to the percentage of votes for Lucky House, Thai Temple, and Thai Basil combined?\"\n",
        "\n",
        "Our null hypothesis is that the percentages are equal, or equivalently, that Imm Thai's lead is exactly 0. Our alternative hypothesis is that Imm Thai's lead is not equal to 0.  In the questions below, don't compute any confidence interval yourself—use only the staff's 95% confidence interval."
      ],
      "metadata": {
        "id": "QmMG6uaqwz72"
      }
    },
    {
      "cell_type": "markdown",
      "source": [
        "## T9\n",
        "Say we use a 5% p-value cutoff. Do we reject the null, fail to reject the null, or are we unable to tell using the staff's confidence interval?\n",
        "\n",
        "Assign `cutoff_five_percent` to the number corresponding to the correct answer.\n",
        "\n",
        "1. Reject the null / Data is consistent with the alternative hypothesis\n",
        "2. Fail to reject the null / Data is consistent with the null hypothesis\n",
        "3. Unable to tell using our staff confidence interval\n",
        "\n",
        "*Hint:* Consider the relationship between the p-value cutoff and confidence. If you're confused, take a look at [this chapter](https://inferentialthinking.com/chapters/13/4/Using_Confidence_Intervals.html) of the textbook."
      ],
      "metadata": {
        "id": "3KaTq2qExGj2"
      }
    },
    {
      "cell_type": "code",
      "source": [
        "cutoff_five_percent = 1 # TODO\n",
        "cutoff_five_percent"
      ],
      "metadata": {
        "id": "v0kCCsImxWF6",
        "colab": {
          "base_uri": "https://localhost:8080/"
        },
        "outputId": "7172558c-e24f-4855-d600-59b313e66ae4"
      },
      "execution_count": 72,
      "outputs": [
        {
          "output_type": "execute_result",
          "data": {
            "text/plain": [
              "1"
            ]
          },
          "metadata": {},
          "execution_count": 72
        }
      ]
    }
  ]
}